{
  "nbformat": 4,
  "nbformat_minor": 0,
  "metadata": {
    "colab": {
      "provenance": []
    },
    "kernelspec": {
      "name": "python3",
      "display_name": "Python 3"
    },
    "language_info": {
      "name": "python"
    }
  },
  "cells": [
    {
      "cell_type": "code",
      "source": [
        "Examle = [\"Laptop\", 39000, \"Window\", \"Lenovo\", \"Bengaluru\", \"Laptop\", 39000, \"MAC\", \"Lenovo\", \"Chikodi\"]\n",
        "print(Examle)\n",
        "print(Examle.count(\"Lenovo\"))"
      ],
      "metadata": {
        "colab": {
          "base_uri": "https://localhost:8080/"
        },
        "id": "apdTRIMmllfo",
        "outputId": "fa775533-8cd8-4cef-b1df-75fa18a09d38"
      },
      "execution_count": null,
      "outputs": [
        {
          "output_type": "stream",
          "name": "stdout",
          "text": [
            "['Laptop', 39000, 'Window', 'Lenovo', 'Bengaluru', 'Laptop', 39000, 'MAC', 'Lenovo', 'Chikodi']\n",
            "2\n"
          ]
        }
      ]
    },
    {
      "cell_type": "code",
      "execution_count": null,
      "metadata": {
        "colab": {
          "base_uri": "https://localhost:8080/"
        },
        "id": "9qxXA_r3kj2J",
        "outputId": "0470e5f6-ff90-4f22-d8c0-e3929a77c267"
      },
      "outputs": [
        {
          "output_type": "stream",
          "name": "stdout",
          "text": [
            "30\n"
          ]
        }
      ],
      "source": [
        "a=10\n",
        "b=20\n",
        "print(a+b)"
      ]
    },
    {
      "cell_type": "code",
      "source": [
        "x= int(input(\"enter x value:\"))\n",
        "y= int(input(\"enter y value:\"))\n",
        "print(x + y)"
      ],
      "metadata": {
        "colab": {
          "base_uri": "https://localhost:8080/"
        },
        "id": "r5JYBhQCsdEx",
        "outputId": "bf6494e8-89ba-4048-dc94-eb8ff332cb3c"
      },
      "execution_count": null,
      "outputs": [
        {
          "output_type": "stream",
          "name": "stdout",
          "text": [
            "enter x vaiue:10\n",
            "enter y vaiue:20\n",
            "30\n"
          ]
        }
      ]
    },
    {
      "cell_type": "code",
      "source": [
        "a=int(input(\"enter a value:\"))\n",
        "b=int(input(\"enter b value:\"))\n",
        "print(\"Addition of\",a,\"and\",b,\"value is =\",a+b)"
      ],
      "metadata": {
        "colab": {
          "base_uri": "https://localhost:8080/"
        },
        "id": "uXISWnl6uDmZ",
        "outputId": "52f198e8-0595-4ac4-b340-798bd87569b3"
      },
      "execution_count": null,
      "outputs": [
        {
          "output_type": "stream",
          "name": "stdout",
          "text": [
            "enter a value:10\n",
            "enter b value:20\n",
            "Addition of 10 and 20 value is = 30\n"
          ]
        }
      ]
    },
    {
      "cell_type": "code",
      "source": [
        "first=float(input(\"enter first value:\"))\n",
        "second=float(input(\"enter second value:\"))\n",
        "print(first * second)"
      ],
      "metadata": {
        "colab": {
          "base_uri": "https://localhost:8080/"
        },
        "id": "qxo6Mvmrv5Fv",
        "outputId": "7935dff2-29f7-4c33-868c-644441df029f"
      },
      "execution_count": null,
      "outputs": [
        {
          "output_type": "stream",
          "name": "stdout",
          "text": [
            "enter first value:10\n",
            "enter second value:5\n",
            "50.0\n"
          ]
        }
      ]
    },
    {
      "cell_type": "code",
      "source": [
        "first_name=input(\"enter first name:\")\n",
        "last_name=input(\"enter last name:\")\n",
        "print(first_name +\" \" +last_name)"
      ],
      "metadata": {
        "colab": {
          "base_uri": "https://localhost:8080/"
        },
        "id": "lksXftpYw1fu",
        "outputId": "ae439d0f-09ed-4d74-ec0e-fbd2262f7294"
      },
      "execution_count": null,
      "outputs": [
        {
          "output_type": "stream",
          "name": "stdout",
          "text": [
            "enter first name:swapnil\n",
            "enter last name:raichur\n",
            "swapnil raichur\n"
          ]
        }
      ]
    },
    {
      "cell_type": "code",
      "source": [
        "first_variable = input(\"enter first variable:\")\n",
        "second_variable = input(\"enter second variable:\")\n",
        "print(\"multiplicaion of\", first_variable,\"and\",second_variable,\"value is\",float(first_variable) * float(second_variable))"
      ],
      "metadata": {
        "colab": {
          "base_uri": "https://localhost:8080/"
        },
        "id": "xvxOu5slxtje",
        "outputId": "7a5d3300-eae4-4878-e72d-1f0377f25a77"
      },
      "execution_count": 40,
      "outputs": [
        {
          "output_type": "stream",
          "name": "stdout",
          "text": [
            "enter first variable:7\n",
            "enter second variable:6\n",
            "multiplicaion of 7 and 6 value is 42.0\n"
          ]
        }
      ]
    },
    {
      "cell_type": "code",
      "source": [
        "print(\"hello world\")"
      ],
      "metadata": {
        "colab": {
          "base_uri": "https://localhost:8080/"
        },
        "id": "Yc5EQDuP07ic",
        "outputId": "325c6f4f-a316-4a6e-9589-a96ca7ff4058"
      },
      "execution_count": 41,
      "outputs": [
        {
          "output_type": "stream",
          "name": "stdout",
          "text": [
            "hello world\n"
          ]
        }
      ]
    },
    {
      "cell_type": "code",
      "source": [
        "i= input()\n",
        "j= input()\n",
        "print(i+j)\n"
      ],
      "metadata": {
        "colab": {
          "base_uri": "https://localhost:8080/"
        },
        "id": "mEQVs39m1qQS",
        "outputId": "18ace65e-739f-49fc-a8f3-ab4ba57aedc8"
      },
      "execution_count": 45,
      "outputs": [
        {
          "output_type": "stream",
          "name": "stdout",
          "text": [
            "BKC\n",
            "college\n",
            "BKCcollege\n"
          ]
        }
      ]
    },
    {
      "cell_type": "code",
      "source": [
        "x= 100\n",
        "y= 50\n",
        "print(f'addition of {x} and {y} is {x+y}')\n",
        "print(f'division of {x} and {y} is {x/y}')"
      ],
      "metadata": {
        "colab": {
          "base_uri": "https://localhost:8080/"
        },
        "id": "bGcGDUyb2JxE",
        "outputId": "46b761f8-4687-44df-b5fc-14fc93e5b030"
      },
      "execution_count": 47,
      "outputs": [
        {
          "output_type": "stream",
          "name": "stdout",
          "text": [
            "addition of 100 and 50 is 150\n",
            "division of 100 and 50 is 2.0\n"
          ]
        }
      ]
    },
    {
      "cell_type": "code",
      "source": [
        "# Hi,Goood morningMy name is swapnil, i have completed MCA in the year of\n",
        "# 2022, currently i'm working in kle bk bca college chikodi 591201\n",
        "name=\"swapnil\"\n",
        "course=\"MCA\"\n",
        "year=\"2022\"\n",
        "department=\"bca\"\n",
        "pincode=591201\n",
        "\n",
        "print(f\"Hi,Good morning My name is {name} i have completed {course} in the year of {year} currently i'm working in kle bk {department} college {pincode}\")"
      ],
      "metadata": {
        "colab": {
          "base_uri": "https://localhost:8080/"
        },
        "id": "wVe2Ictw5Ilw",
        "outputId": "1b1ba035-d016-49fc-d122-d8d14ac39d91"
      },
      "execution_count": 62,
      "outputs": [
        {
          "output_type": "stream",
          "name": "stdout",
          "text": [
            "Hi,Good morning My name is swapnil i have completed MCA in the year of 2022 currently i'm working in kle bk bca college 591201\n"
          ]
        }
      ]
    },
    {
      "cell_type": "markdown",
      "source": [
        "num1=5\n",
        "numb2=10\n",
        "sum = num1+numb2\n",
        "print(sum)\n",
        "calcu=5*10\n",
        "print(calcu)"
      ],
      "metadata": {
        "id": "l5UCiaU_9cFN"
      }
    },
    {
      "cell_type": "code",
      "source": [
        "#arthmetic operators\n",
        "x=35\n",
        "y=40\n",
        "print(f'addition of {x} and {y} is {x+y}')\n",
        "print(f'subtraction of {x} and {y} is {x-y}')\n",
        "print(f'multiplication of {x} and {y} is {x*y}')\n",
        "print(f'division of {x} and {y} is {x/y}')\n",
        "print(f'modulus of {x} and {y} is {x%y}')\n",
        "print(f'exponent of {x} and {y} is {x**y}')\n",
        "print(f'floor division of {x} and {y} is {x//y}')"
      ],
      "metadata": {
        "colab": {
          "base_uri": "https://localhost:8080/"
        },
        "id": "Y5_SoEhAAUAz",
        "outputId": "410add06-2977-4ce1-a62c-d0eeddcea3fe"
      },
      "execution_count": 70,
      "outputs": [
        {
          "output_type": "stream",
          "name": "stdout",
          "text": [
            "addition of 35 and 40 is 75\n",
            "subtraction of 35 and 40 is -5\n",
            "multiplication of 35 and 40 is 1400\n",
            "division of 35 and 40 is 0.875\n",
            "modulus of 35 and 40 is 35\n",
            "exponent of 35 and 40 is 57905761067641178540192733082440108773880638182163238525390625\n",
            "floor division of 35 and 40 is 0\n"
          ]
        }
      ]
    },
    {
      "cell_type": "code",
      "source": [
        "#relationl operators\n",
        "x=35\n",
        "y=40\n",
        "print(f'{x} is equal to {y} is {x==y}')\n",
        "print(f'{x} is not equal to {y} is {x!=y}')\n",
        "print(f'{x} is greater than {y} is {x>y}')\n",
        "print(f'{x} is less than {y} is {x<y}')\n",
        "print(f'{x} is greater than or equal to {y} is {x>=y}')\n",
        "print(f'{x} is less than or equal to {y} is {x<=y}')\n"
      ],
      "metadata": {
        "colab": {
          "base_uri": "https://localhost:8080/"
        },
        "id": "zYwacZtlE84X",
        "outputId": "f1d96fb4-7459-4c1f-c65e-739e78372a10"
      },
      "execution_count": 72,
      "outputs": [
        {
          "output_type": "stream",
          "name": "stdout",
          "text": [
            "35 is equal to 40 is False\n",
            "35 is not equal to 40 is True\n",
            "35 is greater than 40 is False\n",
            "35 is less than 40 is True\n",
            "35 is greater than or equal to 40 is False\n",
            "35 is less than or equal to 40 is True\n"
          ]
        }
      ]
    },
    {
      "cell_type": "markdown",
      "source": [],
      "metadata": {
        "id": "R0KiowOHEjGI"
      }
    },
    {
      "cell_type": "code",
      "source": [
        "\n",
        "\n",
        "a=30\n",
        "b=30\n",
        "c=13\n",
        "d=10\n",
        "print(a== b and c<d)\n",
        "print(13!=c and c<d)\n",
        "print(b>a and c<d)\n",
        "print(20!=a and c==b)\n",
        "print(a<b or d==c)\n",
        "print((not(a<b))and 100<200)\n",
        "print(not(d==10))\n",
        "print(35 !=d or (not(20==a)))\n",
        "print(not(c<=b and(not(a<=c))))\n"
      ],
      "metadata": {
        "colab": {
          "base_uri": "https://localhost:8080/"
        },
        "id": "VkvGIQc4Em--",
        "outputId": "d52de29d-d43a-4620-81ea-0419a269aa13"
      },
      "execution_count": 79,
      "outputs": [
        {
          "output_type": "stream",
          "name": "stdout",
          "text": [
            "False\n",
            "False\n",
            "False\n",
            "False\n",
            "False\n",
            "True\n",
            "False\n",
            "True\n",
            "False\n"
          ]
        }
      ]
    },
    {
      "cell_type": "code",
      "source": [
        "x=10\n",
        "print(x)\n",
        "x-=2\n",
        "print(x)\n",
        "x*=5\n",
        "print(x)\n",
        "\n",
        "\n",
        "x//= 3\n",
        "print(x)\n",
        "x**=2\n",
        "print(x)\n",
        "x%=4\n",
        "print(x)\n",
        "x+=9\n",
        "print(x)\n",
        "x /=3\n",
        "print(x)"
      ],
      "metadata": {
        "colab": {
          "base_uri": "https://localhost:8080/"
        },
        "id": "W4TGQdriifJY",
        "outputId": "dcda30ee-c0fb-4689-bfa0-7b83578475cf"
      },
      "execution_count": 104,
      "outputs": [
        {
          "output_type": "stream",
          "name": "stdout",
          "text": [
            "10\n",
            "8\n",
            "40\n",
            "13\n",
            "169\n",
            "1\n",
            "10\n",
            "3.3333333333333335\n"
          ]
        }
      ]
    },
    {
      "cell_type": "code",
      "source": [
        "num =9\n",
        "if num <10 :\n",
        "    print(\"10 is greater than 9\")"
      ],
      "metadata": {
        "colab": {
          "base_uri": "https://localhost:8080/"
        },
        "id": "0WYbv876-6xM",
        "outputId": "13ce006d-8a92-4241-ceb7-66ddcb740a43"
      },
      "execution_count": 105,
      "outputs": [
        {
          "output_type": "stream",
          "name": "stdout",
          "text": [
            "10 is greater than 9\n"
          ]
        }
      ]
    },
    {
      "cell_type": "code",
      "source": [
        "user_id=\"20mca103\"\n",
        "Password = 1234\n",
        "if user_id==\"20mca103\" and Password ==1234:\n",
        "     print(\"login successful\")"
      ],
      "metadata": {
        "colab": {
          "base_uri": "https://localhost:8080/"
        },
        "id": "vdhq8V6C_bAG",
        "outputId": "57aad090-b489-4ed3-b8bb-b9141e8af6be"
      },
      "execution_count": 109,
      "outputs": [
        {
          "output_type": "stream",
          "name": "stdout",
          "text": [
            "login successful\n"
          ]
        }
      ]
    },
    {
      "cell_type": "code",
      "source": [
        "from pickle import EXT1\n",
        "ex=59\n",
        "if ex==58:\n",
        "    print(\"are you understand\")\n",
        "\n",
        ""
      ],
      "metadata": {
        "id": "MhGYYNxBAYti"
      },
      "execution_count": 120,
      "outputs": []
    },
    {
      "cell_type": "code",
      "source": [
        "name=\"swapnil\"\n",
        "if name <= \"BKC\":\n",
        "    print(\"my name is swapnil\")\n",
        ""
      ],
      "metadata": {
        "id": "J2M-zjpiBCFa"
      },
      "execution_count": 122,
      "outputs": []
    },
    {
      "cell_type": "code",
      "source": [
        "num= int(input(\"enter a number value:\"))\n",
        "if num > 0:\n",
        "    print(\"posistive number\")\n",
        "else:\n",
        "   print(\"odd number\")"
      ],
      "metadata": {
        "colab": {
          "base_uri": "https://localhost:8080/"
        },
        "id": "6ejbv5vfEQRx",
        "outputId": "ee61570f-0f1e-43a8-f9f4-10bf05608b56"
      },
      "execution_count": 123,
      "outputs": [
        {
          "output_type": "stream",
          "name": "stdout",
          "text": [
            "enter a number value:99\n",
            "posistive number\n"
          ]
        }
      ]
    },
    {
      "cell_type": "code",
      "source": [
        "nuk =int(input(\" enter the year\"))\n",
        "if nuk %4==0:\n",
        "  print(\"the year is not leap\")\n",
        "\n"
      ],
      "metadata": {
        "colab": {
          "base_uri": "https://localhost:8080/"
        },
        "id": "irvbthYVIRTN",
        "outputId": "c2fe47c1-b0b4-4171-f782-02548aa9e4e4"
      },
      "execution_count": 127,
      "outputs": [
        {
          "name": "stdout",
          "output_type": "stream",
          "text": [
            " enter the year2022\n"
          ]
        }
      ]
    },
    {
      "cell_type": "code",
      "source": [
        "age =(int(input(\" enter age value\")))\n",
        "if age>=18:\n",
        "  print(\"they are eligible for voteing\")\n",
        "else:\n",
        "  print(\"they  have to wait\")"
      ],
      "metadata": {
        "colab": {
          "base_uri": "https://localhost:8080/"
        },
        "id": "_tpN7OB_KY_D",
        "outputId": "813b4c70-a012-4190-8e55-cd1957dcd75f"
      },
      "execution_count": 130,
      "outputs": [
        {
          "output_type": "stream",
          "name": "stdout",
          "text": [
            " enter age value18\n",
            "they are eligible for voteing\n"
          ]
        }
      ]
    },
    {
      "cell_type": "code",
      "source": [
        "user_id=input(\"Enter user_id value:\")\n",
        "password=int(input(\"Enter passworde value:\"))\n",
        "if user_id==\"college\" and password==1234:\n",
        "  print(\"login successfully\")\n",
        "else:\n",
        "   print(\"Invalid details\")"
      ],
      "metadata": {
        "colab": {
          "base_uri": "https://localhost:8080/"
        },
        "id": "MHl5U7axKYNF",
        "outputId": "05e906f5-f6e7-490e-a6aa-ac751a98cf97"
      },
      "execution_count": 144,
      "outputs": [
        {
          "output_type": "stream",
          "name": "stdout",
          "text": [
            "Enter user_id value:college\n",
            "Enter passworde value:1234\n",
            "login successfully\n"
          ]
        }
      ]
    },
    {
      "cell_type": "code",
      "source": [
        "per=int(input(\"enter percentage is:\"))\n",
        "if per>=90:\n",
        "   print(\"disticaion\")\n",
        "elif marks>=70:\n",
        "   print(\"first calss\")\n",
        "elif marks>=55 :\n",
        "  print(\"secont calss\")\n",
        "elif marks>=35:\n",
        "  print(\"just pass\")\n",
        "else:\n",
        "  print(\"fail better luck next chance\")"
      ],
      "metadata": {
        "colab": {
          "base_uri": "https://localhost:8080/"
        },
        "id": "FRDmZbEVQKy5",
        "outputId": "c65c0b9d-c0c0-44b0-9fab-ab2d2c3162d6"
      },
      "execution_count": 145,
      "outputs": [
        {
          "output_type": "stream",
          "name": "stdout",
          "text": [
            "enter percentage is:110\n",
            "disticaion\n"
          ]
        }
      ]
    },
    {
      "cell_type": "code",
      "source": [
        "\n",
        "prize =input(\"enter prize medal:\")\n",
        "if prize==\"gold\":\n",
        "  print(\"first prize\")\n",
        "elif prize==\"silver\":\n",
        "  print(\"second prize\")\n",
        "  print(\"third prize\")\n",
        "elif prize==\"certificate\":\n",
        "  print(\"samadanakara bahumana\")\n",
        "else:\n",
        "  print(\"better luck next chance\")"
      ],
      "metadata": {
        "colab": {
          "base_uri": "https://localhost:8080/"
        },
        "id": "RD2q5z1wT-ve",
        "outputId": "4065fe31-a4c6-4c8b-b82f-f7ac70a33b8e"
      },
      "execution_count": 150,
      "outputs": [
        {
          "output_type": "stream",
          "name": "stdout",
          "text": [
            "enter prize medal:gold\n",
            "first prize\n"
          ]
        }
      ]
    },
    {
      "cell_type": "code",
      "source": [
        "signal= input(\"trappic signal\")\n",
        "if signal==\"red\":\n",
        "  print(\"stop\")\n",
        "elif signal==\"yellow\":\n",
        "  print(\"ready\")\n",
        "elif signal==\"green\":\n",
        "  print(\"go\")\n",
        "else:\n",
        "  print(\"wrong signal\")"
      ],
      "metadata": {
        "colab": {
          "base_uri": "https://localhost:8080/"
        },
        "id": "sWNyvwWyV-2G",
        "outputId": "0ca180af-1584-437a-d0ed-96661172b7bb"
      },
      "execution_count": 151,
      "outputs": [
        {
          "output_type": "stream",
          "name": "stdout",
          "text": [
            "trappic signalred\n",
            "stop\n"
          ]
        }
      ]
    }
  ]
}