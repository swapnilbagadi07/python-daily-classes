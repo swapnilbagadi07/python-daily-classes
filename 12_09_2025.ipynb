{
  "nbformat": 4,
  "nbformat_minor": 0,
  "metadata": {
    "colab": {
      "provenance": []
    },
    "kernelspec": {
      "name": "python3",
      "display_name": "Python 3"
    },
    "language_info": {
      "name": "python"
    }
  },
  "cells": [
    {
      "cell_type": "code",
      "source": [],
      "metadata": {
        "id": "8vJ72HgOWGgq"
      },
      "execution_count": null,
      "outputs": []
    },
    {
      "cell_type": "code",
      "source": [
        "print(\"hello world\")"
      ],
      "metadata": {
        "colab": {
          "base_uri": "https://localhost:8080/"
        },
        "id": "1Gy69MhfW3c1",
        "outputId": "4c6a38db-3ddc-429d-b4b5-97db15970d53"
      },
      "execution_count": null,
      "outputs": [
        {
          "output_type": "stream",
          "name": "stdout",
          "text": [
            "hello world\n"
          ]
        }
      ]
    },
    {
      "cell_type": "code",
      "source": [
        "print(\"good moring\")"
      ],
      "metadata": {
        "colab": {
          "base_uri": "https://localhost:8080/"
        },
        "id": "VmZaoKTaXQA2",
        "outputId": "1067b799-3b2a-4693-c100-e62a93528e21"
      },
      "execution_count": null,
      "outputs": [
        {
          "output_type": "stream",
          "name": "stdout",
          "text": [
            "good moring\n"
          ]
        }
      ]
    },
    {
      "cell_type": "code",
      "source": [
        "print(\"bk collage chikodi\")"
      ],
      "metadata": {
        "colab": {
          "base_uri": "https://localhost:8080/"
        },
        "id": "__AAK2tIXbpc",
        "outputId": "a12b855e-4679-4b74-c91d-1a31017d619b"
      },
      "execution_count": null,
      "outputs": [
        {
          "output_type": "stream",
          "name": "stdout",
          "text": [
            "bk collage chikodi\n"
          ]
        }
      ]
    },
    {
      "cell_type": "code",
      "source": [
        "print(\"swapnil\")"
      ],
      "metadata": {
        "colab": {
          "base_uri": "https://localhost:8080/"
        },
        "id": "c4VA7snFX4J-",
        "outputId": "dc9290d1-1059-4efc-e1a1-98e95f131666"
      },
      "execution_count": null,
      "outputs": [
        {
          "output_type": "stream",
          "name": "stdout",
          "text": [
            "swapnil\n"
          ]
        }
      ]
    },
    {
      "cell_type": "code",
      "source": [],
      "metadata": {
        "id": "-YYMuAIx4Qs7"
      },
      "execution_count": null,
      "outputs": []
    },
    {
      "cell_type": "code",
      "source": [
        "print(5+5)"
      ],
      "metadata": {
        "colab": {
          "base_uri": "https://localhost:8080/"
        },
        "id": "EnWmtFFjYxZc",
        "outputId": "d17b42dc-fb84-400e-e4a6-32aec62a4f13"
      },
      "execution_count": null,
      "outputs": [
        {
          "output_type": "stream",
          "name": "stdout",
          "text": [
            "10\n"
          ]
        }
      ]
    },
    {
      "cell_type": "code",
      "source": [
        "a=10\n",
        "print(a)"
      ],
      "metadata": {
        "colab": {
          "base_uri": "https://localhost:8080/"
        },
        "id": "4c2YEattyxN6",
        "outputId": "3513a2a5-46b7-4480-f124-058bc46f5d86"
      },
      "execution_count": null,
      "outputs": [
        {
          "output_type": "stream",
          "name": "stdout",
          "text": [
            "10\n"
          ]
        }
      ]
    },
    {
      "cell_type": "code",
      "source": [
        "print(\"hello worde\"*3\n",
        ")"
      ],
      "metadata": {
        "colab": {
          "base_uri": "https://localhost:8080/"
        },
        "id": "Ako8FBcFzqEr",
        "outputId": "2f953909-c5d4-4bf1-b778-9f0a71879cf1"
      },
      "execution_count": null,
      "outputs": [
        {
          "output_type": "stream",
          "name": "stdout",
          "text": [
            "hello wordehello wordehello worde\n"
          ]
        }
      ]
    },
    {
      "cell_type": "code",
      "source": [
        "print(100/3)"
      ],
      "metadata": {
        "colab": {
          "base_uri": "https://localhost:8080/"
        },
        "id": "dAXhR5bk0P2z",
        "outputId": "6c165dea-9000-4e10-859f-bc81f4f722f5"
      },
      "execution_count": null,
      "outputs": [
        {
          "output_type": "stream",
          "name": "stdout",
          "text": [
            "33.333333333333336\n"
          ]
        }
      ]
    },
    {
      "cell_type": "code",
      "source": [
        "print(\"python programing language\\n\"*5)"
      ],
      "metadata": {
        "colab": {
          "base_uri": "https://localhost:8080/"
        },
        "id": "Pg9jrmbU01JH",
        "outputId": "039ce7de-8579-4a35-d751-0acbb22590a2"
      },
      "execution_count": null,
      "outputs": [
        {
          "output_type": "stream",
          "name": "stdout",
          "text": [
            "python programing language\n",
            "python programing language\n",
            "python programing language\n",
            "python programing language\n",
            "python programing language\n",
            "\n"
          ]
        }
      ]
    },
    {
      "cell_type": "code",
      "source": [
        "print(\"my name is swapnil iam from kudachi i am lareing bk college chikodi\")"
      ],
      "metadata": {
        "colab": {
          "base_uri": "https://localhost:8080/"
        },
        "id": "2g-JDIsa1XqJ",
        "outputId": "3073b960-1c14-4698-fcdd-c5f526be468a"
      },
      "execution_count": null,
      "outputs": [
        {
          "output_type": "stream",
          "name": "stdout",
          "text": [
            "my name is swapnil iam from kudachi i am lareing bk college chikodi\n"
          ]
        }
      ]
    },
    {
      "cell_type": "code",
      "source": [
        "print(\"hello\"+\"world\")"
      ],
      "metadata": {
        "colab": {
          "base_uri": "https://localhost:8080/"
        },
        "id": "JbPjpaEY28L7",
        "outputId": "a8459576-7b6f-4ef0-cad3-be098d9b45e9"
      },
      "execution_count": null,
      "outputs": [
        {
          "output_type": "stream",
          "name": "stdout",
          "text": [
            "helloworld\n"
          ]
        }
      ]
    },
    {
      "cell_type": "code",
      "source": [
        "print(\"good morning sir\\n\"*10)"
      ],
      "metadata": {
        "colab": {
          "base_uri": "https://localhost:8080/"
        },
        "id": "87mpm6rY3jbr",
        "outputId": "25097115-7e0e-44f6-e6fa-32ee631afa0b"
      },
      "execution_count": null,
      "outputs": [
        {
          "output_type": "stream",
          "name": "stdout",
          "text": [
            "good morning sir\n",
            "good morning sir\n",
            "good morning sir\n",
            "good morning sir\n",
            "good morning sir\n",
            "good morning sir\n",
            "good morning sir\n",
            "good morning sir\n",
            "good morning sir\n",
            "good morning sir\n",
            "\n"
          ]
        }
      ]
    },
    {
      "cell_type": "code",
      "source": [
        "print(\"hindi1=18\\n ic=15\\n c=22\\n english=15\\n account=10\\n\")"
      ],
      "metadata": {
        "colab": {
          "base_uri": "https://localhost:8080/"
        },
        "id": "vFDol4H850C8",
        "outputId": "b569f2fe-3a72-4bbd-c5f2-125bca4cf024"
      },
      "execution_count": null,
      "outputs": [
        {
          "output_type": "stream",
          "name": "stdout",
          "text": [
            "hindi1=18\n",
            " ic=15\n",
            " c=22\n",
            " english=15\n",
            " account=10\n",
            "\n"
          ]
        }
      ]
    },
    {
      "cell_type": "code",
      "source": [
        "_N_A_M_E=\"computer \"\n",
        "print(_N_A_M_E)"
      ],
      "metadata": {
        "colab": {
          "base_uri": "https://localhost:8080/"
        },
        "id": "HsnCt0Q2BDnm",
        "outputId": "19c1e7db-9f89-4255-95b5-e49e6e06a002"
      },
      "execution_count": null,
      "outputs": [
        {
          "output_type": "stream",
          "name": "stdout",
          "text": [
            "computer \n"
          ]
        }
      ]
    },
    {
      "cell_type": "code",
      "source": [
        "AGE=25\n",
        "age=25\n",
        "print(AGE,age)"
      ],
      "metadata": {
        "colab": {
          "base_uri": "https://localhost:8080/"
        },
        "id": "AcPel1ioB72u",
        "outputId": "d7768ba8-6895-4c38-e4c1-029afaf0de7c"
      },
      "execution_count": null,
      "outputs": [
        {
          "output_type": "stream",
          "name": "stdout",
          "text": [
            "25 25\n"
          ]
        }
      ]
    },
    {
      "cell_type": "code",
      "source": [
        "X=10\n",
        "x=20\n",
        "print(X,x)"
      ],
      "metadata": {
        "colab": {
          "base_uri": "https://localhost:8080/"
        },
        "id": "NxE0f2CjCtmu",
        "outputId": "9b77a601-e738-42df-8c4f-40f33a123f61"
      },
      "execution_count": null,
      "outputs": [
        {
          "output_type": "stream",
          "name": "stdout",
          "text": [
            "10 20\n"
          ]
        }
      ]
    },
    {
      "cell_type": "markdown",
      "source": [],
      "metadata": {
        "id": "VFXJhmNFDZT7"
      }
    },
    {
      "cell_type": "code",
      "source": [
        "NA_12_ME =\"chikodi\"\n",
        "print(NA_12_ME)"
      ],
      "metadata": {
        "colab": {
          "base_uri": "https://localhost:8080/"
        },
        "id": "Ve_kyftwDFtm",
        "outputId": "9c32f47a-8a73-4dd8-bebe-5381479817d6"
      },
      "execution_count": null,
      "outputs": [
        {
          "output_type": "stream",
          "name": "stdout",
          "text": [
            "chikodi\n"
          ]
        }
      ]
    },
    {
      "cell_type": "code",
      "source": [
        "name=\"college\"\n",
        "pre=67,34\n",
        "print(name ,pre)"
      ],
      "metadata": {
        "colab": {
          "base_uri": "https://localhost:8080/"
        },
        "id": "CUwDmJikDmEc",
        "outputId": "9c7a0bd9-e0f5-4be0-fb3b-1cf949579c16"
      },
      "execution_count": null,
      "outputs": [
        {
          "output_type": "stream",
          "name": "stdout",
          "text": [
            "college (67, 34)\n"
          ]
        }
      ]
    },
    {
      "cell_type": "code",
      "source": [
        "college =\"bk college\"\n",
        "name = \"swapnil\"\n",
        "print(college,name)"
      ],
      "metadata": {
        "colab": {
          "base_uri": "https://localhost:8080/"
        },
        "id": "gil8rfLKEOjW",
        "outputId": "96286500-2504-43f7-ed48-460d2d5eddf1"
      },
      "execution_count": null,
      "outputs": [
        {
          "output_type": "stream",
          "name": "stdout",
          "text": [
            "bk college swapnil\n"
          ]
        }
      ]
    },
    {
      "cell_type": "code",
      "source": [
        "# my name is swapnil, i,m studying in bk college\n",
        "college= \"bk college\"\n",
        "name =\"swapnil\"\n",
        "print(\"# my name is swapnil\")\n",
        "print(\"im studying in bk college\")"
      ],
      "metadata": {
        "colab": {
          "base_uri": "https://localhost:8080/"
        },
        "id": "wJGvSG3BEsin",
        "outputId": "0272d84f-d427-4846-991f-c4f1b4cdb4f9"
      },
      "execution_count": null,
      "outputs": [
        {
          "output_type": "stream",
          "name": "stdout",
          "text": [
            "# my name is swapnil\n",
            "im studying in bk college\n"
          ]
        }
      ]
    },
    {
      "cell_type": "code",
      "source": [
        "# I have completed puc in sanketh pu college in the year of 2020, i got percentage is 85.53\n",
        "name = \"sanketh\"\n",
        "per =85.53\n",
        "year =2020\n",
        "# Print(\" i have completed puc in\", name,\"pu college in the year of \",year,\",i got percentage is \",per,)"
      ],
      "metadata": {
        "id": "7ykt9nwzGfkf"
      },
      "execution_count": null,
      "outputs": []
    },
    {
      "cell_type": "code",
      "source": [
        "# hello good evening,how are you, i'm fine , where are you from i'm from chikodi,so nice\n",
        "text =\"good eveninge\"\n",
        "address =\"i'm from chikodi\"\n",
        "print(\"hello\",text,\"how are you\" i'm fine, where are you from i'm from chikodi, so nice)"
      ],
      "metadata": {
        "colab": {
          "base_uri": "https://localhost:8080/",
          "height": 106
        },
        "id": "I0eFls0XLrJg",
        "outputId": "75c24d4a-8e1f-451c-c461-b466fc474caf"
      },
      "execution_count": null,
      "outputs": [
        {
          "output_type": "error",
          "ename": "SyntaxError",
          "evalue": "invalid syntax. Perhaps you forgot a comma? (ipython-input-3739814409.py, line 4)",
          "traceback": [
            "\u001b[0;36m  File \u001b[0;32m\"/tmp/ipython-input-3739814409.py\"\u001b[0;36m, line \u001b[0;32m4\u001b[0m\n\u001b[0;31m    print(\"hello\",text,\"how are you\" i'm fine, where are you from i'm from chikodi, so nice)\u001b[0m\n\u001b[0m                       ^\u001b[0m\n\u001b[0;31mSyntaxError\u001b[0m\u001b[0;31m:\u001b[0m invalid syntax. Perhaps you forgot a comma?\n"
          ]
        }
      ]
    }
  ]
}