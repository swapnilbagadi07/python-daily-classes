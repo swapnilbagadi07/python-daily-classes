{
  "nbformat": 4,
  "nbformat_minor": 0,
  "metadata": {
    "colab": {
      "provenance": []
    },
    "kernelspec": {
      "name": "python3",
      "display_name": "Python 3"
    },
    "language_info": {
      "name": "python"
    }
  },
  "cells": [
    {
      "cell_type": "code",
      "source": [
        "class BCA_1St_Semester :\n",
        "    def Student(self, a,b=0,c=0,d=0):\n",
        "        return a+b+c+d\n",
        "\n",
        "BCA = BCA_1St_Semester()\n",
        "print(BCA.Student(5))\n",
        "print(BCA.Student(10,7,8))\n",
        "print(BCA.Student(-10,4,9,-5))\n",
        "print(BCA.Student(-100,-100))"
      ],
      "metadata": {
        "colab": {
          "base_uri": "https://localhost:8080/"
        },
        "id": "Rd3DCeDspjPP",
        "outputId": "07f06b4d-2b18-4211-a0bd-2c5fdb0ed805"
      },
      "execution_count": 20,
      "outputs": [
        {
          "output_type": "stream",
          "name": "stdout",
          "text": [
            "5\n",
            "25\n",
            "-2\n",
            "-200\n"
          ]
        }
      ]
    },
    {
      "cell_type": "code",
      "source": [
        "class Animal :\n",
        "    def sound(self):\n",
        "        print(\"Animal makes a sount\")\n",
        "class Dog :\n",
        "     def sound(self):\n",
        "         print(\"Bow Bow Bow Bow\")\n",
        "class cat :\n",
        "     def sound(self):\n",
        "         print(\" Meow Meow Meow\")\n",
        "class snake:\n",
        "    def sound(self):\n",
        "        print(\"Buuuussssssssssss\")\n",
        "class cow :\n",
        "    def sound(self):\n",
        "        print(\"Ambbbbbbbbbbbbbbb\")\n",
        "obj1 = Animal()\n",
        "obj2 =Dog()\n",
        "obj3 =cat()\n",
        "obj4 = snake()\n",
        "obj5 = cow()\n",
        "\n",
        "obj1.sound()\n",
        "obj2.sound()\n",
        "obj3.sound()\n",
        "obj4.sound()\n",
        "obj5.sound()\n",
        "\n",
        "\n"
      ],
      "metadata": {
        "colab": {
          "base_uri": "https://localhost:8080/"
        },
        "id": "_81wOdhJu0jE",
        "outputId": "a2caf623-c461-400a-8297-432ad851905f"
      },
      "execution_count": 49,
      "outputs": [
        {
          "output_type": "stream",
          "name": "stdout",
          "text": [
            "Animal makes a sount\n",
            "Bow Bow Bow Bow\n",
            " Meow Meow Meow\n",
            "Buuuussssssssssss\n",
            "Ambbbbbbbbbbbbbbb\n"
          ]
        }
      ]
    },
    {
      "cell_type": "code",
      "source": [
        "# operator overloding polymorphism\n",
        "class book :\n",
        "    def __init__(self,page):\n",
        "       self.page = page\n",
        "    def __add__(self,other):\n",
        "       return self.page + other.page\n",
        "\n",
        "obj1 = book(200)\n",
        "obj2 =book(300)\n",
        "print(\"Total pages is\",obj1 + obj2)\n",
        ""
      ],
      "metadata": {
        "colab": {
          "base_uri": "https://localhost:8080/"
        },
        "id": "UxW74GKXz4lS",
        "outputId": "05442abc-a743-4c23-fe87-78758f4040e9"
      },
      "execution_count": 52,
      "outputs": [
        {
          "output_type": "stream",
          "name": "stdout",
          "text": [
            "Total pages is 500\n"
          ]
        }
      ]
    },
    {
      "cell_type": "code",
      "source": [
        "#Abstraction example\n",
        "from abc import ABC, abstractmethod\n",
        "class Vehicle(ABC):\n",
        "  def sound(self):\n",
        "    pass\n",
        "class Car (Vehicle):\n",
        "  def sound(self) :\n",
        "    print(\"I m driving a Car\")\n",
        "obj = Car()\n",
        "obj.sound()"
      ],
      "metadata": {
        "colab": {
          "base_uri": "https://localhost:8080/"
        },
        "id": "vBR4fg9t3pk4",
        "outputId": "6b9cbf15-4aca-4762-d7f1-f3056c763510"
      },
      "execution_count": 56,
      "outputs": [
        {
          "output_type": "stream",
          "name": "stdout",
          "text": [
            "I m driving a Car\n"
          ]
        }
      ]
    },
    {
      "cell_type": "code",
      "source": [
        "from abc import ABC, abstractmethod\n",
        "class Game(ABC):\n",
        "  def free_fire(self):\n",
        "    print(\"Winner Winner chikaen dinner\")\n",
        "  @abstractmethod\n",
        "  def BGMI(self):\n",
        "      pass\n",
        "  @abstractmethod\n",
        "  def Ludo_king(self):\n",
        "    print(\"I'm win the game\")\n",
        "class Temple_Run (Game):\n",
        "  def BGMI(self):\n",
        "    print(\" I  get Royal pass Diamond\")\n",
        "  def Ludo_king(self):\n",
        "    print(\"I'm win the game\")\\\n",
        "  # Normal function\n",
        "  def Chess(self):\n",
        "    print(\"I'm a district player\")\n",
        "\n",
        "obj = Temple_Run()\n",
        "obj.free_fire()\n",
        "obj.BGMI()\n",
        "obj.Ludo_king()"
      ],
      "metadata": {
        "colab": {
          "base_uri": "https://localhost:8080/"
        },
        "id": "IYszwyxT5_QQ",
        "outputId": "5ad0fa9f-c754-41ea-a6fc-bad995c170a4"
      },
      "execution_count": 76,
      "outputs": [
        {
          "output_type": "stream",
          "name": "stdout",
          "text": [
            "Winner Winner chikaen dinner\n",
            " I  get Royal pass Diamond\n",
            "I'm win the game\n"
          ]
        }
      ]
    },
    {
      "cell_type": "code",
      "source": [],
      "metadata": {
        "id": "TKJKsuvnEJtV"
      },
      "execution_count": null,
      "outputs": []
    }
  ]
}