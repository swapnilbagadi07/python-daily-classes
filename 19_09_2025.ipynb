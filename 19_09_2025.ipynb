{
  "nbformat": 4,
  "nbformat_minor": 0,
  "metadata": {
    "colab": {
      "provenance": []
    },
    "kernelspec": {
      "name": "python3",
      "display_name": "Python 3"
    },
    "language_info": {
      "name": "python"
    }
  },
  "cells": [
    {
      "cell_type": "code",
      "execution_count": 3,
      "metadata": {
        "colab": {
          "base_uri": "https://localhost:8080/"
        },
        "id": "6CzbGKC6OgvC",
        "outputId": "18f87cf8-13a1-4509-cedf-6ec70683ba04"
      },
      "outputs": [
        {
          "output_type": "stream",
          "name": "stdout",
          "text": [
            "total value is : 15\n",
            "total value is : 18\n",
            "total value is : 90\n"
          ]
        }
      ],
      "source": [
        "# 1) example sum of numbers using *args\n",
        "def add(*args):\n",
        "   total = 0\n",
        "   for num in args:\n",
        "       total +=num\n",
        "   print(\"total value is :\",total)\n",
        "add(10,5)\n",
        "add(5,4,9)\n",
        "add(10,46,14,20)\n"
      ]
    },
    {
      "cell_type": "code",
      "source": [
        "def print_details(**kwargs):\n",
        "  for key,value in kwargs.items():\n",
        "   print(f\"{key}={value}\")\n",
        "\n",
        "print_details(name='swapnil',age=19,city='kudachi')"
      ],
      "metadata": {
        "colab": {
          "base_uri": "https://localhost:8080/"
        },
        "id": "BtvFCSvDcZKX",
        "outputId": "f789c6c0-c87a-488b-d3cb-71cc5e2350cf"
      },
      "execution_count": 9,
      "outputs": [
        {
          "output_type": "stream",
          "name": "stdout",
          "text": [
            "name=swapnil\n",
            "age=19\n",
            "city=kudachi\n"
          ]
        }
      ]
    },
    {
      "cell_type": "code",
      "source": [
        "def details(**kwargs):\n",
        "  for key,value in kwargs.items():\n",
        "   print(f'my details is{key}and{value}')\n",
        "details(course=\"bca\",section='c',college=\"bk college\")\n",
        "details(place = \"kudachi\")\n",
        "details(roll_num=101,T_subject=7)\n",
        "details(laptop= \"lenovo\",o_s=\"window\",year = 2022,version = \"windows\")"
      ],
      "metadata": {
        "colab": {
          "base_uri": "https://localhost:8080/"
        },
        "id": "kpDMfnb8d272",
        "outputId": "7a70bb44-ef04-4fb1-e784-679c83181c3e"
      },
      "execution_count": 11,
      "outputs": [
        {
          "output_type": "stream",
          "name": "stdout",
          "text": [
            "my details iscourseandbca\n",
            "my details issectionandc\n",
            "my details iscollegeandbk college\n",
            "my details isplaceandkudachi\n",
            "my details isroll_numand101\n",
            "my details isT_subjectand7\n",
            "my details islaptopandlenovo\n",
            "my details iso_sandwindow\n",
            "my details isyearand2022\n",
            "my details isversionandwindows\n"
          ]
        }
      ]
    },
    {
      "cell_type": "code",
      "source": [
        "#Example of *args and **kwargs\n",
        "def show_values(*args,**kwargs):\n",
        "  print(\"positional arguments represented in tuple\",args)\n",
        "  print(\"key - words arguments represented in dict\", kwargs)\n",
        "show_values(1,2,3,4,name= \"swapnil\")\n",
        "show_values(5,6,1,10,Class =\"BCA C section \", gender = \"male\")"
      ],
      "metadata": {
        "colab": {
          "base_uri": "https://localhost:8080/"
        },
        "id": "nGF9L8ZBgdTH",
        "outputId": "e8e31f4b-4b35-455c-a6d2-06295eaed417"
      },
      "execution_count": 17,
      "outputs": [
        {
          "output_type": "stream",
          "name": "stdout",
          "text": [
            "positional arguments represented in tuple (1, 2, 3, 4)\n",
            "key - words arguments represented in dict {'name': 'swapnil'}\n",
            "positional arguments represented in tuple (5, 6, 1, 10)\n",
            "key - words arguments represented in dict {'Class': 'BCA C section ', 'gender': 'male'}\n"
          ]
        }
      ]
    },
    {
      "cell_type": "code",
      "source": [
        "fact =1\n",
        "for i in range(1,6):\n",
        "  fact = fact*i\n",
        "print(fact)"
      ],
      "metadata": {
        "colab": {
          "base_uri": "https://localhost:8080/"
        },
        "id": "L9VPHB9TjaDI",
        "outputId": "0aa246bc-e28f-4434-ab09-6f4ef128beca"
      },
      "execution_count": 18,
      "outputs": [
        {
          "output_type": "stream",
          "name": "stdout",
          "text": [
            "120\n"
          ]
        }
      ]
    },
    {
      "cell_type": "code",
      "source": [
        "fact =1\n",
        "def fact(num):\n",
        "  if num==0 or num==1:\n",
        "     return 1\n",
        "  else:\n",
        "     return num*fact(num-1)\n",
        "print(fact(5))\n",
        ""
      ],
      "metadata": {
        "colab": {
          "base_uri": "https://localhost:8080/"
        },
        "id": "6OV6ooZMlW2I",
        "outputId": "d2a53f32-9d74-44e1-bd0e-b8fbf93d026a"
      },
      "execution_count": 32,
      "outputs": [
        {
          "output_type": "stream",
          "name": "stdout",
          "text": [
            "120\n"
          ]
        }
      ]
    },
    {
      "cell_type": "code",
      "source": [
        "def sum(num):\n",
        "  if num == 0:\n",
        "     return num\n",
        "  else:\n",
        "     return num + sum(num-1)\n",
        "print(\"sum of n natural is:\",sum(10))"
      ],
      "metadata": {
        "colab": {
          "base_uri": "https://localhost:8080/"
        },
        "id": "4RVxct92qWBw",
        "outputId": "a0f84158-44f0-4444-9055-56858c8da1a6"
      },
      "execution_count": 47,
      "outputs": [
        {
          "output_type": "stream",
          "name": "stdout",
          "text": [
            "sum of n natural is: 55\n"
          ]
        }
      ]
    },
    {
      "cell_type": "code",
      "source": [
        "# fibonacci saeries / num using function\n",
        "def fibo(num):\n",
        "  if num <=1 :\n",
        "    return num\n",
        "  else:\n",
        "     return fibo (num-1)+ fibo(num-2)\n",
        "for i in range(11):\n",
        "  print(fibo(i),end=\" \")"
      ],
      "metadata": {
        "colab": {
          "base_uri": "https://localhost:8080/"
        },
        "id": "__Aw2yxssbzR",
        "outputId": "8f259769-f484-4141-f150-214ef3b8e2e4"
      },
      "execution_count": 56,
      "outputs": [
        {
          "output_type": "stream",
          "name": "stdout",
          "text": [
            "0 1 1 2 3 5 8 13 21 34 55 "
          ]
        }
      ]
    },
    {
      "cell_type": "code",
      "source": [
        "name = \"vasu\"\n",
        "print(name[:4])"
      ],
      "metadata": {
        "colab": {
          "base_uri": "https://localhost:8080/"
        },
        "id": "WK-rueAGy0HK",
        "outputId": "fe2b15c8-8cdc-46c9-d857-619b98fde525"
      },
      "execution_count": 62,
      "outputs": [
        {
          "output_type": "stream",
          "name": "stdout",
          "text": [
            "vasu\n"
          ]
        }
      ]
    },
    {
      "cell_type": "code",
      "source": [
        "# syntax for defining a class\n",
        "class ClassName:\n",
        "  def __init__(self, attribute):\n",
        "    self.attribute = attribute\n",
        "\n",
        "# Example of how to use the class\n",
        "class MyClass:\n",
        "  def __init__(self, name):\n",
        "    self.name = name\n",
        "\n",
        "  def greet(self):\n",
        "    print(f\"Hello, my name is {self.name}\")\n",
        "\n",
        "# Create an instance of the class\n",
        "my_object = MyClass(\"Alice\")\n",
        "my_object.greet()"
      ],
      "metadata": {
        "colab": {
          "base_uri": "https://localhost:8080/"
        },
        "id": "-XUToJ034U7-",
        "outputId": "d0a6113d-a201-417d-be22-58972466186c"
      },
      "execution_count": 94,
      "outputs": [
        {
          "output_type": "stream",
          "name": "stdout",
          "text": [
            "Hello, my name is Alice\n"
          ]
        }
      ]
    },
    {
      "cell_type": "code",
      "source": [
        "class fruit :\n",
        "  colour =\"orange\"\n",
        "  price =250\n",
        "  taste = \"swest\"\n",
        "  shape = \"circle\"\n",
        "def juice (self):\n",
        "  print(\" \")\n",
        "orange = fruit()\n",
        "print(\"orange.colour is\",orange.colour)\n"
      ],
      "metadata": {
        "colab": {
          "base_uri": "https://localhost:8080/"
        },
        "id": "7_o3w9wN6GnO",
        "outputId": "a9f8c2b5-e064-4e73-dc3a-16d566154acb"
      },
      "execution_count": 80,
      "outputs": [
        {
          "output_type": "stream",
          "name": "stdout",
          "text": [
            "orange.colour is orange\n"
          ]
        }
      ]
    },
    {
      "cell_type": "code",
      "source": [
        "class flower :\n",
        "  semll = \"nice\"\n",
        "  petal = 5\n",
        "  size = \"medium\"\n",
        "  gender = \"male\"\n",
        "  validity = 1.5\n",
        "  def decoration(self):\n",
        "     print (\"hello good morning\")\n",
        "  def gift(self):\n",
        "     print(\"marriage\")\n",
        "  def death(self):\n",
        "     print(\"thise flower usimg for death time\")\n",
        "obj=flower()\n",
        "obj.gift()\n",
        "print(obj.gender)\n",
        "obj.decoration()"
      ],
      "metadata": {
        "colab": {
          "base_uri": "https://localhost:8080/"
        },
        "id": "NT7DXM9a6C7u",
        "outputId": "18d11d5c-e86e-4206-e6e4-caa7db11209e"
      },
      "execution_count": 88,
      "outputs": [
        {
          "output_type": "stream",
          "name": "stdout",
          "text": [
            "marriage\n",
            "male\n",
            "hello good morning\n"
          ]
        }
      ]
    },
    {
      "cell_type": "code",
      "source": [
        "class fan :\n",
        "  colour = \"black\"\n",
        "  wings = 3\n",
        "  c_name =\"bajaj\"\n",
        "  price = 1500\n",
        "  warrenty = \"2yeras\"\n",
        "  def start(self):\n",
        "     print(\"when click on button it'll start\")\n",
        "  def speed(self):\n",
        "    print(\"based on condition it'll move faste\")\n",
        "  def stop(self):\n",
        "    print(\"when click on off button it'll stop\")\n",
        "obj = fan()\n",
        "print(obj.c_name+ \" \"+obj.warrenty)\n",
        "obj.stop"
      ],
      "metadata": {
        "colab": {
          "base_uri": "https://localhost:8080/",
          "height": 122
        },
        "id": "M5gP_Wgc4REt",
        "outputId": "ff67666d-0a27-4ca4-ff68-084d0873261a"
      },
      "execution_count": 93,
      "outputs": [
        {
          "output_type": "stream",
          "name": "stdout",
          "text": [
            "bajaj 2yeras\n"
          ]
        },
        {
          "output_type": "execute_result",
          "data": {
            "text/plain": [
              "<bound method fan.stop of <__main__.fan object at 0x7a5b5748d610>>"
            ],
            "text/html": [
              "<div style=\"max-width:800px; border: 1px solid var(--colab-border-color);\"><style>\n",
              "      pre.function-repr-contents {\n",
              "        overflow-x: auto;\n",
              "        padding: 8px 12px;\n",
              "        max-height: 500px;\n",
              "      }\n",
              "\n",
              "      pre.function-repr-contents.function-repr-contents-collapsed {\n",
              "        cursor: pointer;\n",
              "        max-height: 100px;\n",
              "      }\n",
              "    </style>\n",
              "    <pre style=\"white-space: initial; background:\n",
              "         var(--colab-secondary-surface-color); padding: 8px 12px;\n",
              "         border-bottom: 1px solid var(--colab-border-color);\"><b>fan.stop</b><br/>def stop()</pre><pre class=\"function-repr-contents function-repr-contents-collapsed\" style=\"\"><a class=\"filepath\" style=\"display:none\" href=\"#\">/tmp/ipython-input-324122303.py</a>&lt;no docstring&gt;</pre></div>"
            ]
          },
          "metadata": {},
          "execution_count": 93
        }
      ]
    },
    {
      "cell_type": "code",
      "source": [
        "#Banking Example\n",
        "class Bank :\n",
        "    def __init__(self,balance):\n",
        "        self.balance = balance\n",
        "    def deposit(self,amount):\n",
        "        self.balance +=amount\n",
        "    def withdraw (self, amount):\n",
        "        if amount <=self . balance:\n",
        "            self.balance -= amount\n",
        "            print(\"transtion successfully\",amount)\n",
        "        else:\n",
        "            print(\"insufficient balance\")\n",
        "    def re_balance(self):\n",
        "        return self.balance\n",
        "obj = Bank(1000)\n",
        "print(obj.balance)\n",
        "obj.deposit(500)\n",
        "print(obj.balance)\n",
        "obj.withdraw(700)\n",
        "print(obj.re_balance())\n",
        "obj.deposit(1000)\n",
        "print(\"current total balance is\",obj.balance)\n",
        "obj.withdraw(2000)\n",
        "print(obj.re_balance())\n",
        "obj.deposit(500)\n",
        "print(obj.re_balance())\n",
        "obj.withdraw(2000)\n",
        "print(obj.re_balance())"
      ],
      "metadata": {
        "colab": {
          "base_uri": "https://localhost:8080/"
        },
        "id": "WqnUczKOgH0F",
        "outputId": "d7269124-aa06-4216-d217-ece4dd6655e0"
      },
      "execution_count": 110,
      "outputs": [
        {
          "output_type": "stream",
          "name": "stdout",
          "text": [
            "1000\n",
            "1500\n",
            "transtion successfully 700\n",
            "800\n",
            "current total balance is 1800\n",
            "insufficient balance\n",
            "1800\n",
            "2300\n",
            "transtion successfully 2000\n",
            "300\n"
          ]
        }
      ]
    },
    {
      "cell_type": "code",
      "source": [
        "#1)singal inheritance\n",
        "class parent :\n",
        "  def work(self):\n",
        "    print(\"my parents are doing forming\")\n",
        "class children(parent) :\n",
        "  def study(self):\n",
        "    print(\"i m studying bca in bk college\")\n",
        "ch = children()\n",
        "ch.work()\n",
        "ch.study()"
      ],
      "metadata": {
        "colab": {
          "base_uri": "https://localhost:8080/"
        },
        "id": "5x8yXqKVsaoG",
        "outputId": "37a3a276-219d-4cc2-e9ff-ae5b9d4235a3"
      },
      "execution_count": 118,
      "outputs": [
        {
          "output_type": "stream",
          "name": "stdout",
          "text": [
            "my parents are doing forming\n",
            "i m studying bca in bk college\n"
          ]
        }
      ]
    },
    {
      "cell_type": "code",
      "source": [
        "#multiple inheritance\n",
        "class father:\n",
        "  def hi(self):\n",
        "     print(\"my father is my first hero\")\n",
        "class mother:\n",
        "  def hello(self):\n",
        "      print(\"mymother is a house wife\")\n",
        "class child(father, mother):\n",
        "  def bye(self):\n",
        "      print(\"i'm working as a freelancer\")\n",
        "obj = child()\n",
        "obj.hi()\n",
        "obj.hello()\n",
        "obj.bye()\n"
      ],
      "metadata": {
        "colab": {
          "base_uri": "https://localhost:8080/"
        },
        "id": "YaDjxcoXuI52",
        "outputId": "7525539d-5af4-421b-d3dd-b68de71ef17e"
      },
      "execution_count": 123,
      "outputs": [
        {
          "output_type": "stream",
          "name": "stdout",
          "text": [
            "my father is my first hero\n",
            "mymother is a house wife\n",
            "i'm working as a freelancer\n"
          ]
        }
      ]
    },
    {
      "cell_type": "code",
      "source": [
        "class grand_parants:\n",
        "    def formar(self):\n",
        "        print(\"😃😃😃\")\n",
        "\n",
        "class parents(grand_parants):\n",
        "    def house(self):\n",
        "      print(\"🏠🏠🏠🏠🏠🏠\")\n",
        "\n",
        "class child (parents):\n",
        "    def jolly(self):\n",
        "        print(\"😇😇😇\")\n",
        "\n",
        "obj= child()\n",
        "obj.house()\n",
        "obj.jolly()\n",
        "obj.formar()"
      ],
      "metadata": {
        "colab": {
          "base_uri": "https://localhost:8080/"
        },
        "id": "EsWzimuvwRyn",
        "outputId": "de605733-9308-4bb8-d26e-47eea1e82499"
      },
      "execution_count": 135,
      "outputs": [
        {
          "output_type": "stream",
          "name": "stdout",
          "text": [
            "🏠🏠🏠🏠🏠🏠\n",
            "😇😇😇\n",
            "😃😃😃\n"
          ]
        }
      ]
    },
    {
      "cell_type": "markdown",
      "source": [
        "class parents :\n",
        "   def business(self):\n",
        "       print(\"my parents are doing business\")\n",
        "  \n",
        "class child1(parents):\n",
        "   def study(self):\n",
        "       print(\"i'm studying BCA\")\n",
        "\n",
        "class child2(parents):\n",
        "   def work(self):\n",
        "       print(\"i'm studing PUC\")\n",
        "    \n",
        "ch =child1()\n",
        "ch.business()\n",
        "ch.study()\n",
        "\n",
        "obj =child2()\n",
        "obj.business()\n",
        "obj.work()"
      ],
      "metadata": {
        "id": "CfMAqTGHzpxw"
      }
    },
    {
      "cell_type": "code",
      "source": [
        "# Hybrid Inheritance\n",
        "\n",
        "class Grandfather:\n",
        "    def skill(self):\n",
        "        print(\"Grandfather has farming skills\")\n",
        "\n",
        "class Father(Grandfather):\n",
        "    def business(self):\n",
        "        print(\"Father has a business\")\n",
        "\n",
        "class Mother:\n",
        "    def cooking(self):\n",
        "        print(\"Mother is a great cook\")\n",
        "\n",
        "class Son(Father, Mother):\n",
        "    def study(self):\n",
        "        print(\"Son is studying\")\n",
        "\n",
        "class Daughter(Father):\n",
        "    def art(self):\n",
        "        print(\"Daughter is good at art\")\n",
        "\n",
        "# Example usage\n",
        "print(\"Son's traits:\")\n",
        "son = Son()\n",
        "son.skill()\n",
        "son.business()\n",
        "son.cooking()\n",
        "son.study()\n",
        "print(\"\\nDaughter's traits:\")\n",
        "daughter = Daughter()\n",
        "daughter.skill()\n",
        "daughter.business()\n",
        "daughter.art()\n",
        "\n"
      ],
      "metadata": {
        "colab": {
          "base_uri": "https://localhost:8080/"
        },
        "id": "pmWMIMmw3pcg",
        "outputId": "a6ea3dfe-fbff-45dd-83fe-2f2bb7fe69d6"
      },
      "execution_count": 134,
      "outputs": [
        {
          "output_type": "stream",
          "name": "stdout",
          "text": [
            "Son's traits:\n",
            "Grandfather has farming skills\n",
            "Father has a business\n",
            "Mother is a great cook\n",
            "Son is studying\n",
            "\n",
            "Daughter's traits:\n",
            "Grandfather has farming skills\n",
            "Father has a business\n",
            "Daughter is good at art\n"
          ]
        }
      ]
    }
  ]
}