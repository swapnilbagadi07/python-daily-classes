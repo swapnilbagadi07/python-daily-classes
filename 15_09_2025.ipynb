{
  "nbformat": 4,
  "nbformat_minor": 0,
  "metadata": {
    "colab": {
      "provenance": []
    },
    "kernelspec": {
      "name": "python3",
      "display_name": "Python 3"
    },
    "language_info": {
      "name": "python"
    }
  },
  "cells": [
    {
      "cell_type": "code",
      "execution_count": 267,
      "metadata": {
        "colab": {
          "base_uri": "https://localhost:8080/"
        },
        "id": "7itt9jWAIlmH",
        "outputId": "0f5639b4-ddf3-405e-86cf-3908f921b1ba"
      },
      "outputs": [
        {
          "output_type": "stream",
          "name": "stdout",
          "text": [
            "6\n"
          ]
        }
      ],
      "source": [
        "#Address=2010\n",
        "\n",
        "print(3+3)"
      ]
    },
    {
      "cell_type": "code",
      "source": [
        "example=(1,\"sharath\",3.12,False,1)\n",
        "print(example)\n",
        "print(len(example))\n",
        "print(type(example))\n",
        "print(example.count(1))\n",
        "print(example[0:3])\n",
        "print(example[4])\n",
        "print(example[-1])\n"
      ],
      "metadata": {
        "colab": {
          "base_uri": "https://localhost:8080/"
        },
        "id": "53vi3nJOhco_",
        "outputId": "0ef51970-34ce-4190-cbef-2a1b54c16407"
      },
      "execution_count": 268,
      "outputs": [
        {
          "output_type": "stream",
          "name": "stdout",
          "text": [
            "(1, 'sharath', 3.12, False, 1)\n",
            "5\n",
            "<class 'tuple'>\n",
            "2\n",
            "(1, 'sharath', 3.12)\n",
            "1\n",
            "1\n"
          ]
        }
      ]
    },
    {
      "cell_type": "code",
      "source": [
        "number=(2,4,7,9,3,9,3,9,3,2)\n",
        "print(number)\n",
        "Add=(2,4,5,7)\n",
        "print(number+Add)\n",
        "print(Add*4)\n"
      ],
      "metadata": {
        "colab": {
          "base_uri": "https://localhost:8080/"
        },
        "id": "_bnHRciplhzo",
        "outputId": "a86e20bf-e56e-4bed-84b7-cfd4ede06a22"
      },
      "execution_count": 269,
      "outputs": [
        {
          "output_type": "stream",
          "name": "stdout",
          "text": [
            "(2, 4, 7, 9, 3, 9, 3, 9, 3, 2)\n",
            "(2, 4, 7, 9, 3, 9, 3, 9, 3, 2, 2, 4, 5, 7)\n",
            "(2, 4, 5, 7, 2, 4, 5, 7, 2, 4, 5, 7, 2, 4, 5, 7)\n"
          ]
        }
      ]
    },
    {
      "cell_type": "code",
      "source": [
        "example={1,1,2,3,3,4,5,}\n",
        "print(example)\n",
        "print(type(example))\n",
        "print(len(example))\n",
        "example.add(10)\n",
        "print(example)\n",
        "example.add(\"BKC\")\n",
        "print(example)\n",
        "example={1,2,2,3,4,4,5,6,7}\n",
        "print(example)\n",
        "#print(type(example))\n",
        "print(len(example))\n",
        "example.add(\"BKC\")\n",
        "print(example)\n",
        "example.add(77.12)\n",
        "print(example)\n",
        "example.add(\"true\")\n",
        "print(example)\n",
        "example.remove(\"true\")\n",
        "print(example)\n",
        "print(example.pop())\n",
        "print(example)\n"
      ],
      "metadata": {
        "colab": {
          "base_uri": "https://localhost:8080/"
        },
        "id": "ZvacPS_JoUnm",
        "outputId": "dfb032e6-0e74-4b67-97c3-d88c4717359a"
      },
      "execution_count": 270,
      "outputs": [
        {
          "output_type": "stream",
          "name": "stdout",
          "text": [
            "{1, 2, 3, 4, 5}\n",
            "<class 'set'>\n",
            "5\n",
            "{1, 2, 3, 4, 5, 10}\n",
            "{1, 2, 3, 4, 5, 'BKC', 10}\n",
            "{1, 2, 3, 4, 5, 6, 7}\n",
            "7\n",
            "{1, 2, 3, 4, 5, 6, 7, 'BKC'}\n",
            "{1, 2, 3, 4, 5, 6, 7, 77.12, 'BKC'}\n",
            "{1, 2, 3, 4, 5, 6, 7, 77.12, 'true', 'BKC'}\n",
            "{1, 2, 3, 4, 5, 6, 7, 77.12, 'BKC'}\n",
            "1\n",
            "{2, 3, 4, 5, 6, 7, 77.12, 'BKC'}\n"
          ]
        }
      ]
    },
    {
      "cell_type": "code",
      "source": [
        "first={1,2,3,4,4,2}\n",
        "second={3,5,4,6}\n",
        "print(first | second)\n",
        "print(first.union(second))\n",
        "print(first&second)\n",
        "print(first.intersection(second))\n",
        "print(first.difference(second))\n",
        "print(first-second)\n",
        "print(second-first)\n"
      ],
      "metadata": {
        "colab": {
          "base_uri": "https://localhost:8080/"
        },
        "id": "7BuI9AA1moMY",
        "outputId": "b8aa430a-fb8b-430a-fe63-97c98c4446d0"
      },
      "execution_count": 271,
      "outputs": [
        {
          "output_type": "stream",
          "name": "stdout",
          "text": [
            "{1, 2, 3, 4, 5, 6}\n",
            "{1, 2, 3, 4, 5, 6}\n",
            "{3, 4}\n",
            "{3, 4}\n",
            "{1, 2}\n",
            "{1, 2}\n",
            "{5, 6}\n"
          ]
        }
      ]
    },
    {
      "cell_type": "code",
      "source": [
        "dict={\"Roll_number\":201,\n",
        "      \"Name\":\"Basavaraj\",\n",
        "      \"Address\":\"Raichur\",\n",
        "      \"CGPA\":7.53,\n",
        "      \"Course\":\"MCA\",\n",
        "      \"YEAR\":2022}\n",
        "print(dict)\n",
        "print(len(dict))\n",
        "dict[\"Gender\"]=\"male\"\n",
        "print(dict)\n",
        "dict[\"Number\"]=\"7411690561\"\n",
        "print(dict)\n",
        "dict[\"college\"]=\"BKC\"\n",
        "print(dict)\n",
        "dict[\"college\"]=\"tumkur university\"\n",
        "print(dict)\n",
        "del dict[\"Gender\"]\n",
        "print(dict)\n",
        "dict[\"Gender\"]=\"male\"\n",
        "print(dict)\n",
        "print(dict[\"college\"])\n",
        "dict[\"age\"]=19\n",
        "print(dict[\"age\"])\n",
        "dict.pop(\"Address\")\n",
        "print(dict)\n",
        "dict.popitem()\n",
        "print(dict)\n",
        "print(dict.keys())\n",
        "print(dict.values())\n",
        "print(dict.items())\n",
        "print(dict.clear())"
      ],
      "metadata": {
        "colab": {
          "base_uri": "https://localhost:8080/"
        },
        "id": "e-3hvhWtv6TY",
        "outputId": "a3647110-ed72-44b8-c71e-441a8f3f587d"
      },
      "execution_count": 272,
      "outputs": [
        {
          "output_type": "stream",
          "name": "stdout",
          "text": [
            "{'Roll_number': 201, 'Name': 'Basavaraj', 'Address': 'Raichur', 'CGPA': 7.53, 'Course': 'MCA', 'YEAR': 2022}\n",
            "6\n",
            "{'Roll_number': 201, 'Name': 'Basavaraj', 'Address': 'Raichur', 'CGPA': 7.53, 'Course': 'MCA', 'YEAR': 2022, 'Gender': 'male'}\n",
            "{'Roll_number': 201, 'Name': 'Basavaraj', 'Address': 'Raichur', 'CGPA': 7.53, 'Course': 'MCA', 'YEAR': 2022, 'Gender': 'male', 'Number': '7411690561'}\n",
            "{'Roll_number': 201, 'Name': 'Basavaraj', 'Address': 'Raichur', 'CGPA': 7.53, 'Course': 'MCA', 'YEAR': 2022, 'Gender': 'male', 'Number': '7411690561', 'college': 'BKC'}\n",
            "{'Roll_number': 201, 'Name': 'Basavaraj', 'Address': 'Raichur', 'CGPA': 7.53, 'Course': 'MCA', 'YEAR': 2022, 'Gender': 'male', 'Number': '7411690561', 'college': 'tumkur university'}\n",
            "{'Roll_number': 201, 'Name': 'Basavaraj', 'Address': 'Raichur', 'CGPA': 7.53, 'Course': 'MCA', 'YEAR': 2022, 'Number': '7411690561', 'college': 'tumkur university'}\n",
            "{'Roll_number': 201, 'Name': 'Basavaraj', 'Address': 'Raichur', 'CGPA': 7.53, 'Course': 'MCA', 'YEAR': 2022, 'Number': '7411690561', 'college': 'tumkur university', 'Gender': 'male'}\n",
            "tumkur university\n",
            "19\n",
            "{'Roll_number': 201, 'Name': 'Basavaraj', 'CGPA': 7.53, 'Course': 'MCA', 'YEAR': 2022, 'Number': '7411690561', 'college': 'tumkur university', 'Gender': 'male', 'age': 19}\n",
            "{'Roll_number': 201, 'Name': 'Basavaraj', 'CGPA': 7.53, 'Course': 'MCA', 'YEAR': 2022, 'Number': '7411690561', 'college': 'tumkur university', 'Gender': 'male'}\n",
            "dict_keys(['Roll_number', 'Name', 'CGPA', 'Course', 'YEAR', 'Number', 'college', 'Gender'])\n",
            "dict_values([201, 'Basavaraj', 7.53, 'MCA', 2022, '7411690561', 'tumkur university', 'male'])\n",
            "dict_items([('Roll_number', 201), ('Name', 'Basavaraj'), ('CGPA', 7.53), ('Course', 'MCA'), ('YEAR', 2022), ('Number', '7411690561'), ('college', 'tumkur university'), ('Gender', 'male')])\n",
            "None\n"
          ]
        }
      ]
    },
    {
      "cell_type": "markdown",
      "source": [],
      "metadata": {
        "id": "GgTgrL8b6Fqz"
      }
    },
    {
      "cell_type": "code",
      "source": [
        "dict={\"Roll_number\":205,\n",
        "      \"Name\":\"swapnil\",\n",
        "      \"Address\":\"chikodi\",\n",
        "      \"CGPA\":101.53,\n",
        "      \"Course\":\"BCA\",\n",
        "      \"YEAR\":2025}\n",
        "print(dict)\n",
        "print(len(dict))\n",
        "dict[\"Gender\"]=\"male\"\n",
        "print(dict)\n",
        "dict[\"Number\"]=\"7411690561\"\n",
        "print(dict)\n",
        "dict[\"college\"]=\"BKC\"\n",
        "print(dict)\n",
        "dict[\"college\"]=\"tumkur university\"\n",
        "print(dict)\n",
        "del dict[\"Gender\"]\n",
        "print(dict)\n",
        "dict[\"Gender\"]=\"male\"\n",
        "print(dict)\n",
        "print(dict[\"college\"])\n",
        "dict[\"age\"]=19\n",
        "print(dict[\"age\"])\n",
        "dict.pop(\"Address\")\n",
        "print(dict)\n",
        "dict.popitem()\n",
        "print(dict)\n",
        "print(dict.keys())\n",
        "print(dict.values())\n",
        "print(dict.items())\n",
        "print(dict.clear())\n",
        "\n"
      ],
      "metadata": {
        "colab": {
          "base_uri": "https://localhost:8080/"
        },
        "id": "psMpbhwu74aR",
        "outputId": "44eb754a-ad69-4aeb-9e8f-3442ce8af66b"
      },
      "execution_count": 273,
      "outputs": [
        {
          "output_type": "stream",
          "name": "stdout",
          "text": [
            "{'Roll_number': 205, 'Name': 'swapnil', 'Address': 'chikodi', 'CGPA': 101.53, 'Course': 'BCA', 'YEAR': 2025}\n",
            "6\n",
            "{'Roll_number': 205, 'Name': 'swapnil', 'Address': 'chikodi', 'CGPA': 101.53, 'Course': 'BCA', 'YEAR': 2025, 'Gender': 'male'}\n",
            "{'Roll_number': 205, 'Name': 'swapnil', 'Address': 'chikodi', 'CGPA': 101.53, 'Course': 'BCA', 'YEAR': 2025, 'Gender': 'male', 'Number': '7411690561'}\n",
            "{'Roll_number': 205, 'Name': 'swapnil', 'Address': 'chikodi', 'CGPA': 101.53, 'Course': 'BCA', 'YEAR': 2025, 'Gender': 'male', 'Number': '7411690561', 'college': 'BKC'}\n",
            "{'Roll_number': 205, 'Name': 'swapnil', 'Address': 'chikodi', 'CGPA': 101.53, 'Course': 'BCA', 'YEAR': 2025, 'Gender': 'male', 'Number': '7411690561', 'college': 'tumkur university'}\n",
            "{'Roll_number': 205, 'Name': 'swapnil', 'Address': 'chikodi', 'CGPA': 101.53, 'Course': 'BCA', 'YEAR': 2025, 'Number': '7411690561', 'college': 'tumkur university'}\n",
            "{'Roll_number': 205, 'Name': 'swapnil', 'Address': 'chikodi', 'CGPA': 101.53, 'Course': 'BCA', 'YEAR': 2025, 'Number': '7411690561', 'college': 'tumkur university', 'Gender': 'male'}\n",
            "tumkur university\n",
            "19\n",
            "{'Roll_number': 205, 'Name': 'swapnil', 'CGPA': 101.53, 'Course': 'BCA', 'YEAR': 2025, 'Number': '7411690561', 'college': 'tumkur university', 'Gender': 'male', 'age': 19}\n",
            "{'Roll_number': 205, 'Name': 'swapnil', 'CGPA': 101.53, 'Course': 'BCA', 'YEAR': 2025, 'Number': '7411690561', 'college': 'tumkur university', 'Gender': 'male'}\n",
            "dict_keys(['Roll_number', 'Name', 'CGPA', 'Course', 'YEAR', 'Number', 'college', 'Gender'])\n",
            "dict_values([205, 'swapnil', 101.53, 'BCA', 2025, '7411690561', 'tumkur university', 'male'])\n",
            "dict_items([('Roll_number', 205), ('Name', 'swapnil'), ('CGPA', 101.53), ('Course', 'BCA'), ('YEAR', 2025), ('Number', '7411690561'), ('college', 'tumkur university'), ('Gender', 'male')])\n",
            "None\n"
          ]
        }
      ]
    },
    {
      "cell_type": "code",
      "source": [
        "Employe = {\"Employe_id\":1001,\n",
        "           \"Employe_Name\":\"swapnil\",\n",
        "           \"Contact_number\":7411690561,\n",
        "           \"salary\":400000,\n",
        "           \"Email_id\":\"swapnilbagadi6@gmail.com\",\n",
        "           \"compney\":\"Google\",\n",
        "           \"Employe_Habbit\":\"gamming\",\n",
        "}\n",
        "print(Employe)\n",
        "Employe[\"country\"] = \"India\",\n",
        "print(Employe)\n",
        "Employe[\"pin code\"] = 591304\n",
        "print(Employe)\n",
        "print(type(Employe))\n",
        "print(len(Employe))\n",
        "print(Employe[\"salary\"])\n",
        "Employe.pop(\"Email_id\")\n",
        "Employe[\"Department\"] =\"Developer\"\n",
        "print(Employe)\n",
        "Employe[\"Department\"] =\"Testing\"\n",
        "print(Employe)\n",
        "print(Employe.popitem())\n",
        "\n"
      ],
      "metadata": {
        "colab": {
          "base_uri": "https://localhost:8080/"
        },
        "id": "DEqTYBcP9GCY",
        "outputId": "6051a810-d034-4eb1-a30b-a7c0b44caf99"
      },
      "execution_count": 274,
      "outputs": [
        {
          "output_type": "stream",
          "name": "stdout",
          "text": [
            "{'Employe_id': 1001, 'Employe_Name': 'swapnil', 'Contact_number': 7411690561, 'salary': 400000, 'Email_id': 'swapnilbagadi6@gmail.com', 'compney': 'Google', 'Employe_Habbit': 'gamming'}\n",
            "{'Employe_id': 1001, 'Employe_Name': 'swapnil', 'Contact_number': 7411690561, 'salary': 400000, 'Email_id': 'swapnilbagadi6@gmail.com', 'compney': 'Google', 'Employe_Habbit': 'gamming', 'country': ('India',)}\n",
            "{'Employe_id': 1001, 'Employe_Name': 'swapnil', 'Contact_number': 7411690561, 'salary': 400000, 'Email_id': 'swapnilbagadi6@gmail.com', 'compney': 'Google', 'Employe_Habbit': 'gamming', 'country': ('India',), 'pin code': 591304}\n",
            "<class 'dict'>\n",
            "9\n",
            "400000\n",
            "{'Employe_id': 1001, 'Employe_Name': 'swapnil', 'Contact_number': 7411690561, 'salary': 400000, 'compney': 'Google', 'Employe_Habbit': 'gamming', 'country': ('India',), 'pin code': 591304, 'Department': 'Developer'}\n",
            "{'Employe_id': 1001, 'Employe_Name': 'swapnil', 'Contact_number': 7411690561, 'salary': 400000, 'compney': 'Google', 'Employe_Habbit': 'gamming', 'country': ('India',), 'pin code': 591304, 'Department': 'Testing'}\n",
            "('Department', 'Testing')\n"
          ]
        }
      ]
    },
    {
      "cell_type": "code",
      "source": [
        "Name = {\"Name\"  : \"swanil\",\n",
        "        \"name\"  :\"swapnil\",\n",
        "        \"F_name\" :\"swapnil\",\n",
        "        \"L_name\" :\"swapnil\",\n",
        "        }\n",
        "print(Name)"
      ],
      "metadata": {
        "colab": {
          "base_uri": "https://localhost:8080/"
        },
        "id": "REf1hUR4Leg3",
        "outputId": "1b37338c-f881-411b-ba4a-9b11680aac99"
      },
      "execution_count": 275,
      "outputs": [
        {
          "output_type": "stream",
          "name": "stdout",
          "text": [
            "{'Name': 'swanil', 'name': 'swapnil', 'F_name': 'swapnil', 'L_name': 'swapnil'}\n"
          ]
        }
      ]
    },
    {
      "cell_type": "code",
      "source": [
        "a=10\n",
        "b=3\n",
        "c=a/b\n",
        "print(c)\n",
        "print(type(a))\n",
        "print(type(b))\n",
        "print(type(c))\n"
      ],
      "metadata": {
        "colab": {
          "base_uri": "https://localhost:8080/"
        },
        "id": "Nu045srkLcS4",
        "outputId": "13c52dd9-de9a-449a-fa43-5b2c3ebfce9f"
      },
      "execution_count": 276,
      "outputs": [
        {
          "output_type": "stream",
          "name": "stdout",
          "text": [
            "3.3333333333333335\n",
            "<class 'int'>\n",
            "<class 'int'>\n",
            "<class 'float'>\n"
          ]
        }
      ]
    },
    {
      "cell_type": "code",
      "source": [
        "a,b,c=2.5,3.5,a+b\n",
        "print(a+b)\n",
        "print(type(a))\n",
        "print(type(b))\n",
        "print(type(c))\n",
        "print(type(a/b))"
      ],
      "metadata": {
        "colab": {
          "base_uri": "https://localhost:8080/"
        },
        "id": "qXnztWmUe-vz",
        "outputId": "9c66ad3f-f5a1-4a55-aead-de4d2782cac3"
      },
      "execution_count": 277,
      "outputs": [
        {
          "output_type": "stream",
          "name": "stdout",
          "text": [
            "6.0\n",
            "<class 'float'>\n",
            "<class 'float'>\n",
            "<class 'int'>\n",
            "<class 'float'>\n"
          ]
        }
      ]
    },
    {
      "cell_type": "code",
      "source": [
        "x=2.5\n",
        "y=3.5\n",
        "print(type(x+y))"
      ],
      "metadata": {
        "colab": {
          "base_uri": "https://localhost:8080/"
        },
        "id": "x97TrGrUgXlk",
        "outputId": "6356bb4f-8191-4b27-9f9e-558d4f34747f"
      },
      "execution_count": 278,
      "outputs": [
        {
          "output_type": "stream",
          "name": "stdout",
          "text": [
            "<class 'float'>\n"
          ]
        }
      ]
    },
    {
      "cell_type": "code",
      "source": [
        "#\n",
        "i=20\n",
        "j=5.5\n",
        "k=i+j\n",
        "print(type(k))\n"
      ],
      "metadata": {
        "colab": {
          "base_uri": "https://localhost:8080/"
        },
        "id": "yMnq4KsMgntr",
        "outputId": "e415b6f1-e4bb-4d42-a2c6-de2c03dff293"
      },
      "execution_count": 279,
      "outputs": [
        {
          "output_type": "stream",
          "name": "stdout",
          "text": [
            "<class 'float'>\n"
          ]
        }
      ]
    },
    {
      "cell_type": "code",
      "source": [
        "#int->float\n",
        "a=49\n",
        "b=7\n",
        "print(type(a/b))\n",
        "i=True\n",
        "print(type(i))\n",
        "j=5\n",
        "print(type(i+j))\n",
        "M=2.9\n",
        "N=False\n",
        "O=M-N\n",
        "print(type(O))\n",
        "P=True\n",
        "q=False\n",
        "R=P+q\n",
        "print(type(R))\n",
        "s=2.6\n",
        "T=False\n",
        "print(type(s* T))"
      ],
      "metadata": {
        "colab": {
          "base_uri": "https://localhost:8080/"
        },
        "id": "M-KPF8bDhN4e",
        "outputId": "9febb4c5-60cb-40fd-8ef0-f67725f34c14"
      },
      "execution_count": 280,
      "outputs": [
        {
          "output_type": "stream",
          "name": "stdout",
          "text": [
            "<class 'float'>\n",
            "<class 'bool'>\n",
            "<class 'int'>\n",
            "<class 'float'>\n",
            "<class 'int'>\n",
            "<class 'float'>\n"
          ]
        }
      ]
    },
    {
      "cell_type": "code",
      "source": [
        "EX1 = list(Num1)\n",
        "print(type(EX1))\n",
        "Num1 = \"swapnil\"\n",
        "print(type(Num1))\n",
        "EX1 = list(Num1)\n",
        "print(type(EX1))\n",
        "Num1=(set(EX1))\n",
        "print(type(Num1))\n",
        "Num3 = {1,23,4,5}\n",
        "print(type(Num3))\n",
        "Ex3 = list(Num3)\n",
        "print(type(Ex3))\n",
        "Num4 = {}\n",
        "print()"
      ],
      "metadata": {
        "id": "SxzixLAuu-_O"
      },
      "execution_count": null,
      "outputs": []
    },
    {
      "cell_type": "code",
      "source": [
        "a =10\n",
        "b=20\n",
        "print(\"b=10,a=20\")"
      ],
      "metadata": {
        "id": "br49zL_jzeMq"
      },
      "execution_count": null,
      "outputs": []
    },
    {
      "cell_type": "code",
      "source": [
        "Num3=((\"name\",\"swapnil\"),(\"Age\",19))\n",
        "print(type(Num3))"
      ],
      "metadata": {
        "id": "CA6kVQSm1278"
      },
      "execution_count": null,
      "outputs": []
    },
    {
      "cell_type": "code",
      "source": [
        "Num4 ={\"Roll_number\",501,(\"section\",\"c\")}\n",
        "print(type(Num4))"
      ],
      "metadata": {
        "colab": {
          "base_uri": "https://localhost:8080/"
        },
        "id": "Z-L0qa_73lYs",
        "outputId": "8648a5ca-abb4-449c-c22e-b19c6ce061bf"
      },
      "execution_count": 283,
      "outputs": [
        {
          "output_type": "stream",
          "name": "stdout",
          "text": [
            "<class 'set'>\n"
          ]
        }
      ]
    },
    {
      "cell_type": "code",
      "source": [
        "from re import A\n",
        "#I/P a=10 ,b=20\n",
        "\n",
        "a=10\n",
        "b=20\n",
        "print(\"before swapping\")\n",
        "print(\"a=\",a,\"b=\",b)\n",
        "print(\"======================\")\n",
        "print(\"After swapping\")\n",
        "temp =a\n",
        "a=b\n",
        "b=temp\n",
        "print(\"a=\",a,\"b=\",b)\n",
        "\n"
      ],
      "metadata": {
        "colab": {
          "base_uri": "https://localhost:8080/"
        },
        "id": "Z1PCYJVh7v1c",
        "outputId": "54d8360d-800e-49fa-b2f9-3b753cbf238a"
      },
      "execution_count": 288,
      "outputs": [
        {
          "output_type": "stream",
          "name": "stdout",
          "text": [
            "before swapping\n",
            "a= 10 b= 20\n",
            "======================\n",
            "After swapping\n",
            "a= 20 b= 10\n"
          ]
        }
      ]
    },
    {
      "cell_type": "code",
      "source": [
        "a=10\n",
        "b=20\n",
        "print(\"before swapping\")\n",
        "print(\"a=\", a, \"b=\", b)\n",
        "print(\"======================\")\n",
        "print(\"After swapping\")\n",
        "a = a + b\n",
        "b = a - b\n",
        "a = a - b\n",
        "print(\"a=\", a, \"b=\", b)"
      ],
      "metadata": {
        "colab": {
          "base_uri": "https://localhost:8080/"
        },
        "id": "9HrX7C6BAGy2",
        "outputId": "4cfd4872-d6a5-4c80-89f1-dfba96b896a9"
      },
      "execution_count": 291,
      "outputs": [
        {
          "output_type": "stream",
          "name": "stdout",
          "text": [
            "before swapping\n",
            "a= 10 b= 20\n",
            "======================\n",
            "After swapping\n",
            "a= 20 b= 10\n"
          ]
        }
      ]
    }
  ]
}