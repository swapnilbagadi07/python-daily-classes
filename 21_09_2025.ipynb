{
  "nbformat": 4,
  "nbformat_minor": 0,
  "metadata": {
    "colab": {
      "provenance": []
    },
    "kernelspec": {
      "name": "python3",
      "display_name": "Python 3"
    },
    "language_info": {
      "name": "python"
    }
  },
  "cells": [
    {
      "cell_type": "code",
      "execution_count": 7,
      "metadata": {
        "colab": {
          "base_uri": "https://localhost:8080/"
        },
        "id": "JYBK9hoztyOC",
        "outputId": "450c3143-f0c9-4850-af08-8c75df3703bd"
      },
      "outputs": [
        {
          "output_type": "stream",
          "name": "stdout",
          "text": [
            "Nupmpy array: [1 2 3 4 5]\n"
          ]
        }
      ],
      "source": [
        "import numpy as swapnil\n",
        "arr = swapnil.array([1,2,3,4,5])\n",
        "print(\"Nupmpy array:\",arr)\n"
      ]
    },
    {
      "cell_type": "code",
      "source": [
        "import numpy as np\n",
        "zeros=np.zeros(5)\n",
        "ones=np.ones(5)\n",
        "print(\"zeros:\",zeros)\n",
        "print(\"ones:\",ones)"
      ],
      "metadata": {
        "colab": {
          "base_uri": "https://localhost:8080/"
        },
        "id": "ybpQwwRayuaV",
        "outputId": "204e5eb8-f4af-4518-fc9f-dd8cde13d3e5"
      },
      "execution_count": 8,
      "outputs": [
        {
          "output_type": "stream",
          "name": "stdout",
          "text": [
            "zeros: [0. 0. 0. 0. 0.]\n",
            "ones: [1. 1. 1. 1. 1.]\n"
          ]
        }
      ]
    },
    {
      "cell_type": "code",
      "source": [
        "import numpy as np\n",
        "a ==np.array"
      ],
      "metadata": {
        "id": "u5y0oHArzj0l"
      },
      "execution_count": null,
      "outputs": []
    },
    {
      "cell_type": "code",
      "source": [
        "import numpy as np\n",
        "arr = np.array([1,4,9,16])\n",
        "print(\"square Root:\",np.sqrt(arr))\n",
        "print(\"Mean:\",np.mean(arr))"
      ],
      "metadata": {
        "colab": {
          "base_uri": "https://localhost:8080/"
        },
        "id": "eM2aflzQ05bL",
        "outputId": "44a21cc7-12d1-4d31-edd5-dc8c7fcdc6ba"
      },
      "execution_count": 11,
      "outputs": [
        {
          "output_type": "stream",
          "name": "stdout",
          "text": [
            "square Root: [1. 2. 3. 4.]\n",
            "Mean: 7.5\n"
          ]
        }
      ]
    },
    {
      "cell_type": "code",
      "source": [
        "import numpy as np\n",
        "from scipy import stats\n",
        "data = np. array ([2,4,6,8,10,12,16])\n",
        "mean = np.mean(data)\n",
        "print(\"mean value is:\",mean)\n",
        "print(\"median:\",np.median(data))\n",
        "print(\"range value is:\",(data.max()-data.min()))\n",
        "mode = stats.mode(data)\n",
        "print(\"mode value is:\",mode)\n"
      ],
      "metadata": {
        "colab": {
          "base_uri": "https://localhost:8080/"
        },
        "id": "0ysYT-By11ZE",
        "outputId": "1a470d4b-73fb-4ccc-ad2c-118df04a0368"
      },
      "execution_count": 19,
      "outputs": [
        {
          "output_type": "stream",
          "name": "stdout",
          "text": [
            "mean value is: 8.285714285714286\n",
            "median: 8.0\n",
            "range value is: 14\n",
            "mode value is: ModeResult(mode=np.int64(2), count=np.int64(1))\n"
          ]
        }
      ]
    },
    {
      "cell_type": "code",
      "source": [
        "import numpy as np\n",
        "matrix = np.array ([[1,2],[3,4]])\n",
        "print(\"matrix:\\n\",matrix)\n",
        "print(\"transpose:\\n\",matrix.T)"
      ],
      "metadata": {
        "colab": {
          "base_uri": "https://localhost:8080/"
        },
        "id": "6oM4Ho1549d8",
        "outputId": "2e68b03f-822b-4232-8652-b7bddefd399b"
      },
      "execution_count": 20,
      "outputs": [
        {
          "output_type": "stream",
          "name": "stdout",
          "text": [
            "matrix:\n",
            " [[1 2]\n",
            " [3 4]]\n",
            "transpose:\n",
            " [[1 3]\n",
            " [2 4]]\n"
          ]
        }
      ]
    }
  ]
}