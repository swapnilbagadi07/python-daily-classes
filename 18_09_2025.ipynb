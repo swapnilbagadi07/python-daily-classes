{
  "cells": [
    {
      "cell_type": "code",
      "execution_count": null,
      "metadata": {
        "colab": {
          "base_uri": "https://localhost:8080/"
        },
        "id": "hxB1c5IRJ5W3",
        "outputId": "297bc3d6-25f3-42d3-95a6-63b679c2c544"
      },
      "outputs": [
        {
          "name": "stdout",
          "output_type": "stream",
          "text": [
            "totel vowels is : 8\n"
          ]
        }
      ],
      "source": [
        "sentence=\"python programmig language\"\n",
        "count=0\n",
        "for ch in sentence:\n",
        "   if ch in \"aeiou\":\n",
        "        count +=1\n",
        "print(\"totel vowels is :\",count)\n"
      ]
    },
    {
      "cell_type": "code",
      "execution_count": null,
      "metadata": {
        "colab": {
          "base_uri": "https://localhost:8080/"
        },
        "id": "uh3sJWlKQ1aE",
        "outputId": "26a8ba7e-6801-47f3-c64a-d06a2ad58e65"
      },
      "outputs": [
        {
          "name": "stdout",
          "output_type": "stream",
          "text": [
            "area of triangle is : 10.0\n"
          ]
        }
      ],
      "source": [
        "base= 4\n",
        "heghit = 5\n",
        "triangle = 0.5*base*heghit\n",
        "print(\"area of triangle is :\",triangle)"
      ]
    },
    {
      "cell_type": "code",
      "execution_count": null,
      "metadata": {
        "colab": {
          "base_uri": "https://localhost:8080/"
        },
        "id": "lzm4eIUGRs_1",
        "outputId": "60b3c21f-ec5f-41c8-a4f2-e59a3e58a072"
      },
      "outputs": [
        {
          "name": "stdout",
          "output_type": "stream",
          "text": [
            "area of circle is : 50.24\n"
          ]
        }
      ],
      "source": [
        "red = 4\n",
        "area = 3.14*red*red\n",
        "print(\"area of circle is :\",area)"
      ]
    },
    {
      "cell_type": "code",
      "execution_count": null,
      "metadata": {
        "colab": {
          "base_uri": "https://localhost:8080/"
        },
        "id": "FFGwh-VySIqg",
        "outputId": "5a654f7c-97a2-47e6-80d4-696966c6feb5"
      },
      "outputs": [
        {
          "name": "stdout",
          "output_type": "stream",
          "text": [
            "lar nun 25\n",
            "lar nun 35\n",
            "lar nun 45\n"
          ]
        }
      ],
      "source": [
        "ex =[5,25,35,45,10,15]\n",
        "Lar = ex[0]\n",
        "for num in ex:\n",
        "    if num > Lar:\n",
        "        Lar = num\n",
        "        print(\"lar nun\",Lar)"
      ]
    },
    {
      "cell_type": "code",
      "execution_count": null,
      "metadata": {
        "colab": {
          "base_uri": "https://localhost:8080/"
        },
        "id": "Mis8iZj-VPlt",
        "outputId": "9545345c-3a3c-4c8b-fcd8-d3e2b6a0a225"
      },
      "outputs": [
        {
          "name": "stdout",
          "output_type": "stream",
          "text": [
            "99.56 is largset number in this list\n"
          ]
        }
      ],
      "source": [
        "num =[10,25,7,99.56]\n",
        "Lar = num[0]\n",
        "for i in num:\n",
        "    if i > Lar:\n",
        "        Lar = i\n",
        "print(Lar,\"is largset number in this list\")\n",
        "\n"
      ]
    },
    {
      "cell_type": "code",
      "execution_count": null,
      "metadata": {
        "colab": {
          "background_save": true,
          "base_uri": "https://localhost:8080/"
        },
        "id": "A9nBuvgBXX2m",
        "outputId": "44033a3f-62ac-4e63-c250-d6a437229dae"
      },
      "outputs": [
        {
          "name": "stdout",
          "output_type": "stream",
          "text": [
            "Total consonents is : 17\n"
          ]
        }
      ],
      "source": [
        "# write a programe count of consonents in string value\n",
        "#\"Bachelor of computer science first semester section c\"\n",
        "sentence =\"Bachelor of computer science first semester section c\"\n",
        "count=0\n",
        "for ch in sentence:\n",
        "   if ch in \"aeiou\":\n",
        "      count+=1\n",
        "print(\"Total consonents is :\",count)\n"
      ]
    },
    {
      "cell_type": "code",
      "source": [
        "fruits = (\"apple\",\"orange\",\"mango\",\"strawberry\",\"dragon fruit\",\"greeps\",\"babanana\",\"pinapal\",\"pappaya\",\"water milon\")\n",
        "for fruit in fruits:\n",
        "  if fruit == \"greeps\":\n",
        "      print(fruits)"
      ],
      "metadata": {
        "colab": {
          "base_uri": "https://localhost:8080/"
        },
        "id": "Gk3e6X4bvOdM",
        "outputId": "c2ba12e0-aefb-4e5e-e440-4b937e3cbdd7"
      },
      "execution_count": null,
      "outputs": [
        {
          "output_type": "stream",
          "name": "stdout",
          "text": [
            "('apple', 'orange', 'mango', 'strawberry', 'dragon fruit', 'greeps', 'babanana', 'pinapal', 'pappaya', 'water milon')\n"
          ]
        }
      ]
    },
    {
      "cell_type": "code",
      "source": [
        "mobiles = (\"vivo\",\"redmi\",\"oppo\",\"vivo\",\"vivo\",\"vivo\",\"oppo\",\"iqee\",\"vivo\",\"1 puls\")\n",
        "for mobiles in mobiles:\n",
        "  if mobiles == \"vivo\":\n",
        "     continue\n",
        "  print(mobiles)"
      ],
      "metadata": {
        "colab": {
          "base_uri": "https://localhost:8080/"
        },
        "id": "rgDxpBy9y4Vl",
        "outputId": "35b3bcc3-ae44-4f8b-92da-2fde4c965ae5"
      },
      "execution_count": null,
      "outputs": [
        {
          "output_type": "stream",
          "name": "stdout",
          "text": [
            "redmi\n",
            "oppo\n",
            "oppo\n",
            "iqee\n",
            "1 puls\n"
          ]
        }
      ]
    },
    {
      "cell_type": "code",
      "source": [
        "movies =[\"kgf\",\"chhava\",\"bahubali\",\"saiyara\",\"RRR\",\"KALKI\",\"kannadakagi onendonnu otti\"]\n",
        "for movie in movies :\n",
        "  if movie == \"RRR\" :\n",
        "    pass\n",
        "  print(movie)"
      ],
      "metadata": {
        "colab": {
          "base_uri": "https://localhost:8080/"
        },
        "id": "9CcRk-lW0BZ2",
        "outputId": "55a2e633-9677-4a4a-c269-0567d3a87ca6"
      },
      "execution_count": null,
      "outputs": [
        {
          "output_type": "stream",
          "name": "stdout",
          "text": [
            "kgf\n",
            "chhava\n",
            "bahubali\n",
            "saiyara\n",
            "RRR\n",
            "KALKI\n",
            "kannadakagi onendonnu otti\n"
          ]
        }
      ]
    },
    {
      "cell_type": "code",
      "source": [
        "things = {\"mobile\",\"laptop\",\"monitor\",\"tab\",\"book\",\"pen\",\"paper\"}\n",
        "for thing in things :\n",
        "   if thing == \"mobile\":\n",
        "    continue\n",
        "print(thing)"
      ],
      "metadata": {
        "colab": {
          "base_uri": "https://localhost:8080/"
        },
        "id": "ZTutfiRb21QQ",
        "outputId": "b444dd0e-979c-4b02-be75-97ef74b08b8d"
      },
      "execution_count": null,
      "outputs": [
        {
          "output_type": "stream",
          "name": "stdout",
          "text": [
            "pen\n"
          ]
        }
      ]
    },
    {
      "cell_type": "code",
      "source": [
        "for i in range(10):\n",
        "  for j in range(10):\n",
        "      print(\"*\",end=\" \")\n",
        "  print()"
      ],
      "metadata": {
        "colab": {
          "base_uri": "https://localhost:8080/"
        },
        "id": "cDD1rD_L5JfI",
        "outputId": "9831513d-802e-4a2c-d683-7e7250aba5f0"
      },
      "execution_count": null,
      "outputs": [
        {
          "output_type": "stream",
          "name": "stdout",
          "text": [
            "* * * * * * * * * * \n",
            "* * * * * * * * * * \n",
            "* * * * * * * * * * \n",
            "* * * * * * * * * * \n",
            "* * * * * * * * * * \n",
            "* * * * * * * * * * \n",
            "* * * * * * * * * * \n",
            "* * * * * * * * * * \n",
            "* * * * * * * * * * \n",
            "* * * * * * * * * * \n"
          ]
        }
      ]
    },
    {
      "cell_type": "code",
      "source": [
        "for i in range(10):\n",
        "  for j in range(10):\n",
        "      print(\"1\",end=\" \")\n",
        "  print()"
      ],
      "metadata": {
        "colab": {
          "base_uri": "https://localhost:8080/"
        },
        "id": "XBZqEdCw7FdA",
        "outputId": "234cec22-7319-41ad-b16d-7ecd1feb9203"
      },
      "execution_count": null,
      "outputs": [
        {
          "output_type": "stream",
          "name": "stdout",
          "text": [
            "1 1 1 1 1 1 1 1 1 1 \n",
            "1 1 1 1 1 1 1 1 1 1 \n",
            "1 1 1 1 1 1 1 1 1 1 \n",
            "1 1 1 1 1 1 1 1 1 1 \n",
            "1 1 1 1 1 1 1 1 1 1 \n",
            "1 1 1 1 1 1 1 1 1 1 \n",
            "1 1 1 1 1 1 1 1 1 1 \n",
            "1 1 1 1 1 1 1 1 1 1 \n",
            "1 1 1 1 1 1 1 1 1 1 \n",
            "1 1 1 1 1 1 1 1 1 1 \n"
          ]
        }
      ]
    },
    {
      "cell_type": "code",
      "source": [
        "for i in range(10):\n",
        "  for j in range(10):\n",
        "      print(\"1\",end=\" \")\n",
        "  print()"
      ],
      "metadata": {
        "colab": {
          "base_uri": "https://localhost:8080/"
        },
        "id": "9hK9Sv_y7T2A",
        "outputId": "ff9ebb61-9f0f-49b8-bcbe-33c472a2e9c0"
      },
      "execution_count": null,
      "outputs": [
        {
          "output_type": "stream",
          "name": "stdout",
          "text": [
            "s s s s s s s s s s \n",
            "s s s s s s s s s s \n",
            "s s s s s s s s s s \n",
            "s s s s s s s s s s \n",
            "s s s s s s s s s s \n",
            "s s s s s s s s s s \n",
            "s s s s s s s s s s \n",
            "s s s s s s s s s s \n",
            "s s s s s s s s s s \n",
            "s s s s s s s s s s \n"
          ]
        }
      ]
    },
    {
      "cell_type": "code",
      "source": [
        "for i in range(10):\n",
        "  for j in range(10):\n",
        "      print(i,end=\" \")\n",
        "  print()"
      ],
      "metadata": {
        "colab": {
          "base_uri": "https://localhost:8080/"
        },
        "id": "HJRd_LcR7xLB",
        "outputId": "2b2606ac-a83f-4942-c9c1-6763c1dcc342"
      },
      "execution_count": null,
      "outputs": [
        {
          "output_type": "stream",
          "name": "stdout",
          "text": [
            "0 1 2 3 4 5 6 7 8 9 \n",
            "0 1 2 3 4 5 6 7 8 9 \n",
            "0 1 2 3 4 5 6 7 8 9 \n",
            "0 1 2 3 4 5 6 7 8 9 \n",
            "0 1 2 3 4 5 6 7 8 9 \n",
            "0 1 2 3 4 5 6 7 8 9 \n",
            "0 1 2 3 4 5 6 7 8 9 \n",
            "0 1 2 3 4 5 6 7 8 9 \n",
            "0 1 2 3 4 5 6 7 8 9 \n",
            "0 1 2 3 4 5 6 7 8 9 \n"
          ]
        }
      ]
    },
    {
      "cell_type": "code",
      "source": [
        "for i in range(10):\n",
        "  for j in range(10):\n",
        "      print(j,end=\" \")\n",
        "  print()"
      ],
      "metadata": {
        "colab": {
          "base_uri": "https://localhost:8080/"
        },
        "id": "4Iks8Rmv8Ckg",
        "outputId": "8be50945-68ff-417b-9b88-cdcf87fe806b"
      },
      "execution_count": null,
      "outputs": [
        {
          "output_type": "stream",
          "name": "stdout",
          "text": [
            "0 1 2 3 4 5 6 7 8 9 \n",
            "0 1 2 3 4 5 6 7 8 9 \n",
            "0 1 2 3 4 5 6 7 8 9 \n",
            "0 1 2 3 4 5 6 7 8 9 \n",
            "0 1 2 3 4 5 6 7 8 9 \n",
            "0 1 2 3 4 5 6 7 8 9 \n",
            "0 1 2 3 4 5 6 7 8 9 \n",
            "0 1 2 3 4 5 6 7 8 9 \n",
            "0 1 2 3 4 5 6 7 8 9 \n",
            "0 1 2 3 4 5 6 7 8 9 \n"
          ]
        }
      ]
    },
    {
      "cell_type": "code",
      "source": [
        "for i in range(1,10):\n",
        "  for j in range(i):\n",
        "      print(j,end=\" \")\n",
        "  print()"
      ],
      "metadata": {
        "colab": {
          "base_uri": "https://localhost:8080/"
        },
        "id": "hie6dE-o8Vko",
        "outputId": "1f6a5631-de5f-4500-edf8-62852336d168"
      },
      "execution_count": null,
      "outputs": [
        {
          "output_type": "stream",
          "name": "stdout",
          "text": [
            "0 \n",
            "0 1 \n",
            "0 1 2 \n",
            "0 1 2 3 \n",
            "0 1 2 3 4 \n",
            "0 1 2 3 4 5 \n",
            "0 1 2 3 4 5 6 \n",
            "0 1 2 3 4 5 6 7 \n",
            "0 1 2 3 4 5 6 7 8 \n"
          ]
        }
      ]
    },
    {
      "cell_type": "code",
      "source": [
        "for i in range(1,10):\n",
        "  for j in range(j):\n",
        "      print(j,end=\" \")\n",
        "  print()"
      ],
      "metadata": {
        "id": "xruMe7ITMoCH",
        "colab": {
          "base_uri": "https://localhost:8080/"
        },
        "outputId": "9f9c74d0-d6cb-42b9-dca2-34a9adc1c1a9"
      },
      "execution_count": 163,
      "outputs": [
        {
          "output_type": "stream",
          "name": "stdout",
          "text": [
            "\n",
            "\n",
            "\n",
            "\n",
            "\n",
            "\n",
            "\n",
            "\n",
            "\n"
          ]
        }
      ]
    },
    {
      "cell_type": "code",
      "source": [
        "for i in range(5):\n",
        "  for j in range(i+1):\n",
        "   print(\" \",end=\" \")\n",
        "for j in range(5):\n",
        "   print(\"*\",end=\" \")\n",
        "print()"
      ],
      "metadata": {
        "colab": {
          "base_uri": "https://localhost:8080/"
        },
        "id": "BDlqX8mmNSjo",
        "outputId": "7e4a457b-55cc-4035-a16d-2836bba72877"
      },
      "execution_count": 172,
      "outputs": [
        {
          "output_type": "stream",
          "name": "stdout",
          "text": [
            "                              * * * * * \n"
          ]
        }
      ]
    },
    {
      "cell_type": "code",
      "source": [
        "for i in range(10):\n",
        "   for j in range(0,i+1):\n",
        "       print(\" \",end=\" \")\n",
        "   for j in range(10):\n",
        "       print(\"*\",end=\" \")\n",
        "   print()"
      ],
      "metadata": {
        "colab": {
          "base_uri": "https://localhost:8080/"
        },
        "id": "adPi42WRPUSf",
        "outputId": "6013e74c-ea52-4241-9b56-26301f277522"
      },
      "execution_count": 191,
      "outputs": [
        {
          "output_type": "stream",
          "name": "stdout",
          "text": [
            "  * * * * * * * * * * \n",
            "    * * * * * * * * * * \n",
            "      * * * * * * * * * * \n",
            "        * * * * * * * * * * \n",
            "          * * * * * * * * * * \n",
            "            * * * * * * * * * * \n",
            "              * * * * * * * * * * \n",
            "                * * * * * * * * * * \n",
            "                  * * * * * * * * * * \n",
            "                    * * * * * * * * * * \n"
          ]
        }
      ]
    },
    {
      "cell_type": "code",
      "source": [
        "for i in range(5):\n",
        "   for j in range(i+1,5):\n",
        "       print(\" \",end=\" \")\n",
        "   for j in range(5):\n",
        "       print(\"*\",end=\" \")\n",
        "   print()"
      ],
      "metadata": {
        "colab": {
          "base_uri": "https://localhost:8080/"
        },
        "id": "TI7I1n_-Rwrn",
        "outputId": "715ea96a-effa-4311-e747-a660d7fb6acf"
      },
      "execution_count": 198,
      "outputs": [
        {
          "output_type": "stream",
          "name": "stdout",
          "text": [
            "        * * * * * \n",
            "      * * * * * \n",
            "    * * * * * \n",
            "  * * * * * \n",
            "* * * * * \n"
          ]
        }
      ]
    },
    {
      "cell_type": "code",
      "source": [
        "row = 5\n",
        "col = 5\n",
        "for i in range (0,row):\n",
        "  for j in range(0,col):\n",
        "      if i==0 or j==0 or i==row-1 or j==col-1:\n",
        "       print(\"*\",end=\" \")\n",
        "      else:\n",
        "        print(\"*\",end=\" \")\n",
        "  print()\n",
        "\n"
      ],
      "metadata": {
        "colab": {
          "base_uri": "https://localhost:8080/"
        },
        "id": "9KTKwZbDSVcx",
        "outputId": "dae75372-fe1c-4a8f-e1e8-55a4620323a2"
      },
      "execution_count": 219,
      "outputs": [
        {
          "output_type": "stream",
          "name": "stdout",
          "text": [
            "* * * * * \n",
            "* * * * * \n",
            "* * * * * \n",
            "* * * * * \n",
            "* * * * * \n"
          ]
        }
      ]
    },
    {
      "cell_type": "code",
      "source": [
        "for i in range (10):\n",
        "    for j in range (i):\n",
        "        print(\"*\",end=\" \")\n",
        "    print()"
      ],
      "metadata": {
        "colab": {
          "base_uri": "https://localhost:8080/"
        },
        "id": "kZjbn98tWbzB",
        "outputId": "39e8e364-2a59-4d8b-c120-f6566e5e4014"
      },
      "execution_count": 224,
      "outputs": [
        {
          "output_type": "stream",
          "name": "stdout",
          "text": [
            "\n",
            "* \n",
            "* * \n",
            "* * * \n",
            "* * * * \n",
            "* * * * * \n",
            "* * * * * * \n",
            "* * * * * * * \n",
            "* * * * * * * * \n",
            "* * * * * * * * * \n"
          ]
        }
      ]
    },
    {
      "cell_type": "code",
      "source": [
        "num = 7\n",
        "for i in  range (0,num):\n",
        "    for i in range (0,num-i-1):\n",
        "        print(\" \",end=\" \")\n",
        "for j in range (0,i*2+1):\n",
        "    print(\"*\", end=\" \")\n",
        "print()\n"
      ],
      "metadata": {
        "colab": {
          "base_uri": "https://localhost:8080/"
        },
        "id": "tCc45QnZXNKa",
        "outputId": "f11fa7ab-92e0-4b75-9faf-220a766e0c0f"
      },
      "execution_count": 238,
      "outputs": [
        {
          "output_type": "stream",
          "name": "stdout",
          "text": [
            "                                          * * * * * * * * * * * * * \n"
          ]
        }
      ]
    },
    {
      "cell_type": "code",
      "source": [
        "num = 7\n",
        "for i in range(0,num):\n",
        "    for j in range(0,num-i-i):\n",
        "        print (\" \",end=\" \")\n",
        "    for j in range(0,i*2+1):\n",
        "       print(\"*\",end=\" \")\n",
        "    print()\n",
        "for i in range (0,num):\n",
        "    for j in range (0,i):\n",
        "         print(\" \",end=\" \")\n",
        "    for j in range (0,(num-i)*2-1):\n",
        "         print(\"*\",end=\" \")\n",
        "    print()\n",
        ""
      ],
      "metadata": {
        "colab": {
          "base_uri": "https://localhost:8080/"
        },
        "id": "BX4ZYnyWa97S",
        "outputId": "22a741d5-dd7f-4c52-efd1-0c581a66aedc"
      },
      "execution_count": 253,
      "outputs": [
        {
          "output_type": "stream",
          "name": "stdout",
          "text": [
            "              * \n",
            "          * * * \n",
            "      * * * * * \n",
            "  * * * * * * * \n",
            "* * * * * * * * * \n",
            "* * * * * * * * * * * \n",
            "* * * * * * * * * * * * * \n",
            "* * * * * * * * * * * * * \n",
            "  * * * * * * * * * * * \n",
            "    * * * * * * * * * \n",
            "      * * * * * * * \n",
            "        * * * * * \n",
            "          * * * \n",
            "            * \n"
          ]
        }
      ]
    },
    {
      "cell_type": "code",
      "source": [
        "# 1) example\n",
        "def fun(num):\n",
        "  return num*num\n",
        "print(fun(4))"
      ],
      "metadata": {
        "colab": {
          "base_uri": "https://localhost:8080/"
        },
        "id": "bQgApMA9idMD",
        "outputId": "770904cc-08df-4436-ae1a-73d5ec436102"
      },
      "execution_count": 255,
      "outputs": [
        {
          "output_type": "stream",
          "name": "stdout",
          "text": [
            "16\n"
          ]
        }
      ]
    },
    {
      "cell_type": "code",
      "source": [
        "def add(a,b):\n",
        "  print(f'addition of two number is {a+b}')\n",
        "add(5,10)\n"
      ],
      "metadata": {
        "colab": {
          "base_uri": "https://localhost:8080/"
        },
        "id": "tRjYuSx2kb0M",
        "outputId": "0a35d738-3cc6-4947-c561-64e51ac4440c"
      },
      "execution_count": 258,
      "outputs": [
        {
          "output_type": "stream",
          "name": "stdout",
          "text": [
            "addition of two number is 15\n"
          ]
        }
      ]
    },
    {
      "cell_type": "code",
      "source": [
        "def example( roll_number,name,section,department,college):\n",
        "    print(f\"my name is{name},i'm studing {department},college.my roll_number is {roll_number}and section is {section}\")\n",
        "example(101,\"swapnil\",'a',\"BCA\",\"KLE\")"
      ],
      "metadata": {
        "colab": {
          "base_uri": "https://localhost:8080/"
        },
        "id": "rUbfoc0dnwhE",
        "outputId": "7a6343ff-4caf-434f-b595-698038ac759d"
      },
      "execution_count": 272,
      "outputs": [
        {
          "output_type": "stream",
          "name": "stdout",
          "text": [
            "my name isswapnil,i'm studing BCA,college.my roll_number is 101and section is a\n"
          ]
        }
      ]
    },
    {
      "cell_type": "code",
      "source": [
        "def fun(name,game,time):\n",
        "   print(f\"i'm{name};i'm playing {game} at {time} time\")\n",
        "fun(time = \"evening\",name = \"swapnil\",game = \"cricket\")\n"
      ],
      "metadata": {
        "colab": {
          "base_uri": "https://localhost:8080/"
        },
        "id": "mn0BnhmHtSWd",
        "outputId": "7c47d627-6afc-4cdb-e575-144554477473"
      },
      "execution_count": 273,
      "outputs": [
        {
          "output_type": "stream",
          "name": "stdout",
          "text": [
            "i'mswapnil;i'm playing cricket at evening time\n"
          ]
        }
      ]
    },
    {
      "cell_type": "code",
      "source": [
        "def laptop(name = \"lenovo\"):\n",
        "    print(\"my my laptop name is :\",name)\n",
        "laptop(\"dell\")\n",
        "laptop(\"hp\")\n",
        "laptop()\n",
        "laptop(\"asus\")"
      ],
      "metadata": {
        "colab": {
          "base_uri": "https://localhost:8080/"
        },
        "id": "QBQiJKNmu4X1",
        "outputId": "5b3a719c-98fd-4e9c-8a37-f3a78f378856"
      },
      "execution_count": 275,
      "outputs": [
        {
          "output_type": "stream",
          "name": "stdout",
          "text": [
            "my my laptop name is : dell\n",
            "my my laptop name is : hp\n",
            "my my laptop name is : lenovo\n",
            "my my laptop name is : asus\n"
          ]
        }
      ]
    }
  ],
  "metadata": {
    "colab": {
      "provenance": []
    },
    "kernelspec": {
      "display_name": "Python 3",
      "name": "python3"
    },
    "language_info": {
      "name": "python"
    }
  },
  "nbformat": 4,
  "nbformat_minor": 0
}